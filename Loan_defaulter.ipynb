{
 "cells": [
  {
   "cell_type": "code",
   "execution_count": 263,
   "metadata": {},
   "outputs": [],
   "source": [
    "import pandas as pd\n",
    "import numpy as np\n",
    "import seaborn as sns\n",
    "import matplotlib.pyplot as plt\n",
    "%matplotlib inline"
   ]
  },
  {
   "cell_type": "code",
   "execution_count": 264,
   "metadata": {},
   "outputs": [],
   "source": [
    "train=pd.read_csv('C:/Users/SAJAN P MENON/Desktop/week-9-case_study/analytics_vidhya_loan_defaulter/train_20D8GL3.csv')\n",
    "test=pd.read_csv('C:/Users/SAJAN P MENON/Desktop/week-9-case_study/analytics_vidhya_loan_defaulter/test_O6kKpvt.csv')"
   ]
  },
  {
   "cell_type": "code",
   "execution_count": 265,
   "metadata": {},
   "outputs": [
    {
     "data": {
      "text/html": [
       "<div>\n",
       "<style scoped>\n",
       "    .dataframe tbody tr th:only-of-type {\n",
       "        vertical-align: middle;\n",
       "    }\n",
       "\n",
       "    .dataframe tbody tr th {\n",
       "        vertical-align: top;\n",
       "    }\n",
       "\n",
       "    .dataframe thead th {\n",
       "        text-align: right;\n",
       "    }\n",
       "</style>\n",
       "<table border=\"1\" class=\"dataframe\">\n",
       "  <thead>\n",
       "    <tr style=\"text-align: right;\">\n",
       "      <th></th>\n",
       "      <th>ID</th>\n",
       "      <th>LIMIT_BAL</th>\n",
       "      <th>SEX</th>\n",
       "      <th>EDUCATION</th>\n",
       "      <th>MARRIAGE</th>\n",
       "      <th>AGE</th>\n",
       "      <th>PAY_0</th>\n",
       "      <th>PAY_2</th>\n",
       "      <th>PAY_3</th>\n",
       "      <th>PAY_4</th>\n",
       "      <th>...</th>\n",
       "      <th>BILL_AMT4</th>\n",
       "      <th>BILL_AMT5</th>\n",
       "      <th>BILL_AMT6</th>\n",
       "      <th>PAY_AMT1</th>\n",
       "      <th>PAY_AMT2</th>\n",
       "      <th>PAY_AMT3</th>\n",
       "      <th>PAY_AMT4</th>\n",
       "      <th>PAY_AMT5</th>\n",
       "      <th>PAY_AMT6</th>\n",
       "      <th>default_payment_next_month</th>\n",
       "    </tr>\n",
       "  </thead>\n",
       "  <tbody>\n",
       "    <tr>\n",
       "      <th>0</th>\n",
       "      <td>25150</td>\n",
       "      <td>360000</td>\n",
       "      <td>2</td>\n",
       "      <td>2</td>\n",
       "      <td>2</td>\n",
       "      <td>25</td>\n",
       "      <td>-1</td>\n",
       "      <td>-1</td>\n",
       "      <td>-1</td>\n",
       "      <td>-1</td>\n",
       "      <td>...</td>\n",
       "      <td>3435</td>\n",
       "      <td>8870</td>\n",
       "      <td>2020</td>\n",
       "      <td>12590</td>\n",
       "      <td>3479</td>\n",
       "      <td>3446</td>\n",
       "      <td>8870</td>\n",
       "      <td>2020</td>\n",
       "      <td>27043</td>\n",
       "      <td>0</td>\n",
       "    </tr>\n",
       "    <tr>\n",
       "      <th>1</th>\n",
       "      <td>13470</td>\n",
       "      <td>240000</td>\n",
       "      <td>2</td>\n",
       "      <td>1</td>\n",
       "      <td>2</td>\n",
       "      <td>46</td>\n",
       "      <td>2</td>\n",
       "      <td>2</td>\n",
       "      <td>-2</td>\n",
       "      <td>-1</td>\n",
       "      <td>...</td>\n",
       "      <td>2240</td>\n",
       "      <td>1681</td>\n",
       "      <td>2267</td>\n",
       "      <td>0</td>\n",
       "      <td>0</td>\n",
       "      <td>2240</td>\n",
       "      <td>0</td>\n",
       "      <td>2267</td>\n",
       "      <td>3074</td>\n",
       "      <td>0</td>\n",
       "    </tr>\n",
       "    <tr>\n",
       "      <th>2</th>\n",
       "      <td>3092</td>\n",
       "      <td>320000</td>\n",
       "      <td>2</td>\n",
       "      <td>2</td>\n",
       "      <td>1</td>\n",
       "      <td>41</td>\n",
       "      <td>0</td>\n",
       "      <td>0</td>\n",
       "      <td>0</td>\n",
       "      <td>0</td>\n",
       "      <td>...</td>\n",
       "      <td>35409</td>\n",
       "      <td>35036</td>\n",
       "      <td>35939</td>\n",
       "      <td>5000</td>\n",
       "      <td>2000</td>\n",
       "      <td>2000</td>\n",
       "      <td>3000</td>\n",
       "      <td>3000</td>\n",
       "      <td>1500</td>\n",
       "      <td>0</td>\n",
       "    </tr>\n",
       "    <tr>\n",
       "      <th>3</th>\n",
       "      <td>13973</td>\n",
       "      <td>50000</td>\n",
       "      <td>2</td>\n",
       "      <td>2</td>\n",
       "      <td>2</td>\n",
       "      <td>24</td>\n",
       "      <td>-1</td>\n",
       "      <td>-1</td>\n",
       "      <td>-2</td>\n",
       "      <td>-2</td>\n",
       "      <td>...</td>\n",
       "      <td>0</td>\n",
       "      <td>0</td>\n",
       "      <td>0</td>\n",
       "      <td>0</td>\n",
       "      <td>0</td>\n",
       "      <td>0</td>\n",
       "      <td>0</td>\n",
       "      <td>0</td>\n",
       "      <td>0</td>\n",
       "      <td>1</td>\n",
       "    </tr>\n",
       "    <tr>\n",
       "      <th>4</th>\n",
       "      <td>10567</td>\n",
       "      <td>80000</td>\n",
       "      <td>1</td>\n",
       "      <td>3</td>\n",
       "      <td>1</td>\n",
       "      <td>52</td>\n",
       "      <td>-1</td>\n",
       "      <td>0</td>\n",
       "      <td>0</td>\n",
       "      <td>0</td>\n",
       "      <td>...</td>\n",
       "      <td>20561</td>\n",
       "      <td>21261</td>\n",
       "      <td>21457</td>\n",
       "      <td>1500</td>\n",
       "      <td>1500</td>\n",
       "      <td>1500</td>\n",
       "      <td>1028</td>\n",
       "      <td>876</td>\n",
       "      <td>1449</td>\n",
       "      <td>0</td>\n",
       "    </tr>\n",
       "  </tbody>\n",
       "</table>\n",
       "<p>5 rows × 25 columns</p>\n",
       "</div>"
      ],
      "text/plain": [
       "      ID  LIMIT_BAL  SEX  EDUCATION  MARRIAGE  AGE  PAY_0  PAY_2  PAY_3  \\\n",
       "0  25150     360000    2          2         2   25     -1     -1     -1   \n",
       "1  13470     240000    2          1         2   46      2      2     -2   \n",
       "2   3092     320000    2          2         1   41      0      0      0   \n",
       "3  13973      50000    2          2         2   24     -1     -1     -2   \n",
       "4  10567      80000    1          3         1   52     -1      0      0   \n",
       "\n",
       "   PAY_4  ...  BILL_AMT4  BILL_AMT5  BILL_AMT6  PAY_AMT1  PAY_AMT2  PAY_AMT3  \\\n",
       "0     -1  ...       3435       8870       2020     12590      3479      3446   \n",
       "1     -1  ...       2240       1681       2267         0         0      2240   \n",
       "2      0  ...      35409      35036      35939      5000      2000      2000   \n",
       "3     -2  ...          0          0          0         0         0         0   \n",
       "4      0  ...      20561      21261      21457      1500      1500      1500   \n",
       "\n",
       "   PAY_AMT4  PAY_AMT5  PAY_AMT6  default_payment_next_month  \n",
       "0      8870      2020     27043                           0  \n",
       "1         0      2267      3074                           0  \n",
       "2      3000      3000      1500                           0  \n",
       "3         0         0         0                           1  \n",
       "4      1028       876      1449                           0  \n",
       "\n",
       "[5 rows x 25 columns]"
      ]
     },
     "execution_count": 265,
     "metadata": {},
     "output_type": "execute_result"
    }
   ],
   "source": [
    "train.head()"
   ]
  },
  {
   "cell_type": "code",
   "execution_count": 266,
   "metadata": {},
   "outputs": [
    {
     "data": {
      "text/html": [
       "<div>\n",
       "<style scoped>\n",
       "    .dataframe tbody tr th:only-of-type {\n",
       "        vertical-align: middle;\n",
       "    }\n",
       "\n",
       "    .dataframe tbody tr th {\n",
       "        vertical-align: top;\n",
       "    }\n",
       "\n",
       "    .dataframe thead th {\n",
       "        text-align: right;\n",
       "    }\n",
       "</style>\n",
       "<table border=\"1\" class=\"dataframe\">\n",
       "  <thead>\n",
       "    <tr style=\"text-align: right;\">\n",
       "      <th></th>\n",
       "      <th>ID</th>\n",
       "      <th>LIMIT_BAL</th>\n",
       "      <th>SEX</th>\n",
       "      <th>EDUCATION</th>\n",
       "      <th>MARRIAGE</th>\n",
       "      <th>AGE</th>\n",
       "      <th>PAY_0</th>\n",
       "      <th>PAY_2</th>\n",
       "      <th>PAY_3</th>\n",
       "      <th>PAY_4</th>\n",
       "      <th>...</th>\n",
       "      <th>BILL_AMT3</th>\n",
       "      <th>BILL_AMT4</th>\n",
       "      <th>BILL_AMT5</th>\n",
       "      <th>BILL_AMT6</th>\n",
       "      <th>PAY_AMT1</th>\n",
       "      <th>PAY_AMT2</th>\n",
       "      <th>PAY_AMT3</th>\n",
       "      <th>PAY_AMT4</th>\n",
       "      <th>PAY_AMT5</th>\n",
       "      <th>PAY_AMT6</th>\n",
       "    </tr>\n",
       "  </thead>\n",
       "  <tbody>\n",
       "    <tr>\n",
       "      <th>0</th>\n",
       "      <td>10178</td>\n",
       "      <td>60000</td>\n",
       "      <td>2</td>\n",
       "      <td>2</td>\n",
       "      <td>1</td>\n",
       "      <td>30</td>\n",
       "      <td>0</td>\n",
       "      <td>0</td>\n",
       "      <td>0</td>\n",
       "      <td>0</td>\n",
       "      <td>...</td>\n",
       "      <td>38117</td>\n",
       "      <td>38874</td>\n",
       "      <td>38667</td>\n",
       "      <td>39544</td>\n",
       "      <td>1628</td>\n",
       "      <td>1618</td>\n",
       "      <td>1375</td>\n",
       "      <td>1403</td>\n",
       "      <td>1520</td>\n",
       "      <td>1205</td>\n",
       "    </tr>\n",
       "    <tr>\n",
       "      <th>1</th>\n",
       "      <td>5304</td>\n",
       "      <td>200000</td>\n",
       "      <td>2</td>\n",
       "      <td>1</td>\n",
       "      <td>2</td>\n",
       "      <td>29</td>\n",
       "      <td>0</td>\n",
       "      <td>0</td>\n",
       "      <td>0</td>\n",
       "      <td>0</td>\n",
       "      <td>...</td>\n",
       "      <td>76593</td>\n",
       "      <td>93988</td>\n",
       "      <td>50292</td>\n",
       "      <td>10510</td>\n",
       "      <td>4160</td>\n",
       "      <td>14593</td>\n",
       "      <td>20150</td>\n",
       "      <td>0</td>\n",
       "      <td>5739</td>\n",
       "      <td>12050</td>\n",
       "    </tr>\n",
       "    <tr>\n",
       "      <th>2</th>\n",
       "      <td>5187</td>\n",
       "      <td>230000</td>\n",
       "      <td>1</td>\n",
       "      <td>1</td>\n",
       "      <td>2</td>\n",
       "      <td>39</td>\n",
       "      <td>0</td>\n",
       "      <td>0</td>\n",
       "      <td>0</td>\n",
       "      <td>0</td>\n",
       "      <td>...</td>\n",
       "      <td>20650</td>\n",
       "      <td>0</td>\n",
       "      <td>0</td>\n",
       "      <td>0</td>\n",
       "      <td>2500</td>\n",
       "      <td>2000</td>\n",
       "      <td>0</td>\n",
       "      <td>0</td>\n",
       "      <td>0</td>\n",
       "      <td>0</td>\n",
       "    </tr>\n",
       "    <tr>\n",
       "      <th>3</th>\n",
       "      <td>14495</td>\n",
       "      <td>150000</td>\n",
       "      <td>1</td>\n",
       "      <td>1</td>\n",
       "      <td>2</td>\n",
       "      <td>40</td>\n",
       "      <td>0</td>\n",
       "      <td>0</td>\n",
       "      <td>0</td>\n",
       "      <td>0</td>\n",
       "      <td>...</td>\n",
       "      <td>145978</td>\n",
       "      <td>139791</td>\n",
       "      <td>142745</td>\n",
       "      <td>146872</td>\n",
       "      <td>5800</td>\n",
       "      <td>5245</td>\n",
       "      <td>5200</td>\n",
       "      <td>5200</td>\n",
       "      <td>6500</td>\n",
       "      <td>7200</td>\n",
       "    </tr>\n",
       "    <tr>\n",
       "      <th>4</th>\n",
       "      <td>20444</td>\n",
       "      <td>140000</td>\n",
       "      <td>1</td>\n",
       "      <td>2</td>\n",
       "      <td>2</td>\n",
       "      <td>27</td>\n",
       "      <td>0</td>\n",
       "      <td>0</td>\n",
       "      <td>0</td>\n",
       "      <td>0</td>\n",
       "      <td>...</td>\n",
       "      <td>76230</td>\n",
       "      <td>77954</td>\n",
       "      <td>78953</td>\n",
       "      <td>81848</td>\n",
       "      <td>10000</td>\n",
       "      <td>10000</td>\n",
       "      <td>3393</td>\n",
       "      <td>3260</td>\n",
       "      <td>5000</td>\n",
       "      <td>3000</td>\n",
       "    </tr>\n",
       "  </tbody>\n",
       "</table>\n",
       "<p>5 rows × 24 columns</p>\n",
       "</div>"
      ],
      "text/plain": [
       "      ID  LIMIT_BAL  SEX  EDUCATION  MARRIAGE  AGE  PAY_0  PAY_2  PAY_3  \\\n",
       "0  10178      60000    2          2         1   30      0      0      0   \n",
       "1   5304     200000    2          1         2   29      0      0      0   \n",
       "2   5187     230000    1          1         2   39      0      0      0   \n",
       "3  14495     150000    1          1         2   40      0      0      0   \n",
       "4  20444     140000    1          2         2   27      0      0      0   \n",
       "\n",
       "   PAY_4  ...  BILL_AMT3  BILL_AMT4  BILL_AMT5  BILL_AMT6  PAY_AMT1  PAY_AMT2  \\\n",
       "0      0  ...      38117      38874      38667      39544      1628      1618   \n",
       "1      0  ...      76593      93988      50292      10510      4160     14593   \n",
       "2      0  ...      20650          0          0          0      2500      2000   \n",
       "3      0  ...     145978     139791     142745     146872      5800      5245   \n",
       "4      0  ...      76230      77954      78953      81848     10000     10000   \n",
       "\n",
       "   PAY_AMT3  PAY_AMT4  PAY_AMT5  PAY_AMT6  \n",
       "0      1375      1403      1520      1205  \n",
       "1     20150         0      5739     12050  \n",
       "2         0         0         0         0  \n",
       "3      5200      5200      6500      7200  \n",
       "4      3393      3260      5000      3000  \n",
       "\n",
       "[5 rows x 24 columns]"
      ]
     },
     "execution_count": 266,
     "metadata": {},
     "output_type": "execute_result"
    }
   ],
   "source": [
    "test.head()"
   ]
  },
  {
   "cell_type": "code",
   "execution_count": 267,
   "metadata": {},
   "outputs": [
    {
     "name": "stdout",
     "output_type": "stream",
     "text": [
      "(21000, 25)\n",
      "(9000, 24)\n"
     ]
    }
   ],
   "source": [
    "print(train.shape)\n",
    "print(test.shape)"
   ]
  },
  {
   "cell_type": "markdown",
   "metadata": {},
   "source": [
    "# adding extra column to check train/test"
   ]
  },
  {
   "cell_type": "code",
   "execution_count": 268,
   "metadata": {},
   "outputs": [],
   "source": [
    "train['train/test']=1\n",
    "test['train/test']=0"
   ]
  },
  {
   "cell_type": "markdown",
   "metadata": {},
   "source": [
    "# making train and test into one."
   ]
  },
  {
   "cell_type": "code",
   "execution_count": 269,
   "metadata": {},
   "outputs": [],
   "source": [
    "df=pd.concat([train,test])"
   ]
  },
  {
   "cell_type": "code",
   "execution_count": 270,
   "metadata": {},
   "outputs": [
    {
     "data": {
      "text/html": [
       "<div>\n",
       "<style scoped>\n",
       "    .dataframe tbody tr th:only-of-type {\n",
       "        vertical-align: middle;\n",
       "    }\n",
       "\n",
       "    .dataframe tbody tr th {\n",
       "        vertical-align: top;\n",
       "    }\n",
       "\n",
       "    .dataframe thead th {\n",
       "        text-align: right;\n",
       "    }\n",
       "</style>\n",
       "<table border=\"1\" class=\"dataframe\">\n",
       "  <thead>\n",
       "    <tr style=\"text-align: right;\">\n",
       "      <th></th>\n",
       "      <th>AGE</th>\n",
       "      <th>BILL_AMT1</th>\n",
       "      <th>BILL_AMT2</th>\n",
       "      <th>BILL_AMT3</th>\n",
       "      <th>BILL_AMT4</th>\n",
       "      <th>BILL_AMT5</th>\n",
       "      <th>BILL_AMT6</th>\n",
       "      <th>EDUCATION</th>\n",
       "      <th>ID</th>\n",
       "      <th>LIMIT_BAL</th>\n",
       "      <th>...</th>\n",
       "      <th>PAY_6</th>\n",
       "      <th>PAY_AMT1</th>\n",
       "      <th>PAY_AMT2</th>\n",
       "      <th>PAY_AMT3</th>\n",
       "      <th>PAY_AMT4</th>\n",
       "      <th>PAY_AMT5</th>\n",
       "      <th>PAY_AMT6</th>\n",
       "      <th>SEX</th>\n",
       "      <th>default_payment_next_month</th>\n",
       "      <th>train/test</th>\n",
       "    </tr>\n",
       "  </thead>\n",
       "  <tbody>\n",
       "    <tr>\n",
       "      <th>8995</th>\n",
       "      <td>42</td>\n",
       "      <td>3210</td>\n",
       "      <td>0</td>\n",
       "      <td>0</td>\n",
       "      <td>0</td>\n",
       "      <td>0</td>\n",
       "      <td>0</td>\n",
       "      <td>2</td>\n",
       "      <td>16413</td>\n",
       "      <td>230000</td>\n",
       "      <td>...</td>\n",
       "      <td>-2</td>\n",
       "      <td>0</td>\n",
       "      <td>0</td>\n",
       "      <td>0</td>\n",
       "      <td>0</td>\n",
       "      <td>0</td>\n",
       "      <td>0</td>\n",
       "      <td>2</td>\n",
       "      <td>NaN</td>\n",
       "      <td>0</td>\n",
       "    </tr>\n",
       "    <tr>\n",
       "      <th>8996</th>\n",
       "      <td>28</td>\n",
       "      <td>2780</td>\n",
       "      <td>1950</td>\n",
       "      <td>7956</td>\n",
       "      <td>499</td>\n",
       "      <td>0</td>\n",
       "      <td>5990</td>\n",
       "      <td>1</td>\n",
       "      <td>17210</td>\n",
       "      <td>90000</td>\n",
       "      <td>...</td>\n",
       "      <td>-1</td>\n",
       "      <td>1950</td>\n",
       "      <td>7956</td>\n",
       "      <td>499</td>\n",
       "      <td>0</td>\n",
       "      <td>5990</td>\n",
       "      <td>0</td>\n",
       "      <td>2</td>\n",
       "      <td>NaN</td>\n",
       "      <td>0</td>\n",
       "    </tr>\n",
       "    <tr>\n",
       "      <th>8997</th>\n",
       "      <td>26</td>\n",
       "      <td>58072</td>\n",
       "      <td>59040</td>\n",
       "      <td>57416</td>\n",
       "      <td>55736</td>\n",
       "      <td>26958</td>\n",
       "      <td>28847</td>\n",
       "      <td>2</td>\n",
       "      <td>24002</td>\n",
       "      <td>60000</td>\n",
       "      <td>...</td>\n",
       "      <td>0</td>\n",
       "      <td>2282</td>\n",
       "      <td>2324</td>\n",
       "      <td>2049</td>\n",
       "      <td>2000</td>\n",
       "      <td>3000</td>\n",
       "      <td>1120</td>\n",
       "      <td>1</td>\n",
       "      <td>NaN</td>\n",
       "      <td>0</td>\n",
       "    </tr>\n",
       "    <tr>\n",
       "      <th>8998</th>\n",
       "      <td>23</td>\n",
       "      <td>44830</td>\n",
       "      <td>46185</td>\n",
       "      <td>47208</td>\n",
       "      <td>47241</td>\n",
       "      <td>48212</td>\n",
       "      <td>45849</td>\n",
       "      <td>2</td>\n",
       "      <td>17019</td>\n",
       "      <td>70000</td>\n",
       "      <td>...</td>\n",
       "      <td>0</td>\n",
       "      <td>2100</td>\n",
       "      <td>2079</td>\n",
       "      <td>2500</td>\n",
       "      <td>2000</td>\n",
       "      <td>2000</td>\n",
       "      <td>1700</td>\n",
       "      <td>2</td>\n",
       "      <td>NaN</td>\n",
       "      <td>0</td>\n",
       "    </tr>\n",
       "    <tr>\n",
       "      <th>8999</th>\n",
       "      <td>38</td>\n",
       "      <td>51072</td>\n",
       "      <td>49889</td>\n",
       "      <td>39635</td>\n",
       "      <td>35130</td>\n",
       "      <td>33229</td>\n",
       "      <td>32171</td>\n",
       "      <td>2</td>\n",
       "      <td>23415</td>\n",
       "      <td>600000</td>\n",
       "      <td>...</td>\n",
       "      <td>0</td>\n",
       "      <td>0</td>\n",
       "      <td>4000</td>\n",
       "      <td>0</td>\n",
       "      <td>1500</td>\n",
       "      <td>2000</td>\n",
       "      <td>3000</td>\n",
       "      <td>2</td>\n",
       "      <td>NaN</td>\n",
       "      <td>0</td>\n",
       "    </tr>\n",
       "  </tbody>\n",
       "</table>\n",
       "<p>5 rows × 26 columns</p>\n",
       "</div>"
      ],
      "text/plain": [
       "      AGE  BILL_AMT1  BILL_AMT2  BILL_AMT3  BILL_AMT4  BILL_AMT5  BILL_AMT6  \\\n",
       "8995   42       3210          0          0          0          0          0   \n",
       "8996   28       2780       1950       7956        499          0       5990   \n",
       "8997   26      58072      59040      57416      55736      26958      28847   \n",
       "8998   23      44830      46185      47208      47241      48212      45849   \n",
       "8999   38      51072      49889      39635      35130      33229      32171   \n",
       "\n",
       "      EDUCATION     ID  LIMIT_BAL  ...  PAY_6  PAY_AMT1  PAY_AMT2  PAY_AMT3  \\\n",
       "8995          2  16413     230000  ...     -2         0         0         0   \n",
       "8996          1  17210      90000  ...     -1      1950      7956       499   \n",
       "8997          2  24002      60000  ...      0      2282      2324      2049   \n",
       "8998          2  17019      70000  ...      0      2100      2079      2500   \n",
       "8999          2  23415     600000  ...      0         0      4000         0   \n",
       "\n",
       "      PAY_AMT4  PAY_AMT5  PAY_AMT6  SEX  default_payment_next_month  \\\n",
       "8995         0         0         0    2                         NaN   \n",
       "8996         0      5990         0    2                         NaN   \n",
       "8997      2000      3000      1120    1                         NaN   \n",
       "8998      2000      2000      1700    2                         NaN   \n",
       "8999      1500      2000      3000    2                         NaN   \n",
       "\n",
       "      train/test  \n",
       "8995           0  \n",
       "8996           0  \n",
       "8997           0  \n",
       "8998           0  \n",
       "8999           0  \n",
       "\n",
       "[5 rows x 26 columns]"
      ]
     },
     "execution_count": 270,
     "metadata": {},
     "output_type": "execute_result"
    }
   ],
   "source": [
    "df.tail()"
   ]
  },
  {
   "cell_type": "code",
   "execution_count": null,
   "metadata": {},
   "outputs": [],
   "source": []
  },
  {
   "cell_type": "markdown",
   "metadata": {},
   "source": [
    "# EDA"
   ]
  },
  {
   "cell_type": "code",
   "execution_count": 271,
   "metadata": {},
   "outputs": [
    {
     "data": {
      "text/plain": [
       "AGE                              0\n",
       "BILL_AMT1                        0\n",
       "BILL_AMT2                        0\n",
       "BILL_AMT3                        0\n",
       "BILL_AMT4                        0\n",
       "BILL_AMT5                        0\n",
       "BILL_AMT6                        0\n",
       "EDUCATION                        0\n",
       "ID                               0\n",
       "LIMIT_BAL                        0\n",
       "MARRIAGE                         0\n",
       "PAY_0                            0\n",
       "PAY_2                            0\n",
       "PAY_3                            0\n",
       "PAY_4                            0\n",
       "PAY_5                            0\n",
       "PAY_6                            0\n",
       "PAY_AMT1                         0\n",
       "PAY_AMT2                         0\n",
       "PAY_AMT3                         0\n",
       "PAY_AMT4                         0\n",
       "PAY_AMT5                         0\n",
       "PAY_AMT6                         0\n",
       "SEX                              0\n",
       "default_payment_next_month    9000\n",
       "train/test                       0\n",
       "dtype: int64"
      ]
     },
     "execution_count": 271,
     "metadata": {},
     "output_type": "execute_result"
    }
   ],
   "source": [
    "df.isnull().sum()"
   ]
  },
  {
   "cell_type": "code",
   "execution_count": 272,
   "metadata": {},
   "outputs": [
    {
     "name": "stdout",
     "output_type": "stream",
     "text": [
      "<class 'pandas.core.frame.DataFrame'>\n",
      "Int64Index: 30000 entries, 0 to 8999\n",
      "Data columns (total 26 columns):\n",
      "AGE                           30000 non-null int64\n",
      "BILL_AMT1                     30000 non-null int64\n",
      "BILL_AMT2                     30000 non-null int64\n",
      "BILL_AMT3                     30000 non-null int64\n",
      "BILL_AMT4                     30000 non-null int64\n",
      "BILL_AMT5                     30000 non-null int64\n",
      "BILL_AMT6                     30000 non-null int64\n",
      "EDUCATION                     30000 non-null int64\n",
      "ID                            30000 non-null int64\n",
      "LIMIT_BAL                     30000 non-null int64\n",
      "MARRIAGE                      30000 non-null int64\n",
      "PAY_0                         30000 non-null int64\n",
      "PAY_2                         30000 non-null int64\n",
      "PAY_3                         30000 non-null int64\n",
      "PAY_4                         30000 non-null int64\n",
      "PAY_5                         30000 non-null int64\n",
      "PAY_6                         30000 non-null int64\n",
      "PAY_AMT1                      30000 non-null int64\n",
      "PAY_AMT2                      30000 non-null int64\n",
      "PAY_AMT3                      30000 non-null int64\n",
      "PAY_AMT4                      30000 non-null int64\n",
      "PAY_AMT5                      30000 non-null int64\n",
      "PAY_AMT6                      30000 non-null int64\n",
      "SEX                           30000 non-null int64\n",
      "default_payment_next_month    21000 non-null float64\n",
      "train/test                    30000 non-null int64\n",
      "dtypes: float64(1), int64(25)\n",
      "memory usage: 6.2 MB\n"
     ]
    }
   ],
   "source": [
    "df.info()"
   ]
  },
  {
   "cell_type": "markdown",
   "metadata": {},
   "source": [
    "# checking unique values"
   ]
  },
  {
   "cell_type": "code",
   "execution_count": 273,
   "metadata": {
    "scrolled": true
   },
   "outputs": [
    {
     "name": "stdout",
     "output_type": "stream",
     "text": [
      "AGE\n",
      "56\n",
      "\n",
      "BILL_AMT1\n",
      "22723\n",
      "\n",
      "BILL_AMT2\n",
      "22346\n",
      "\n",
      "BILL_AMT3\n",
      "22026\n",
      "\n",
      "BILL_AMT4\n",
      "21548\n",
      "\n",
      "BILL_AMT5\n",
      "21010\n",
      "\n",
      "BILL_AMT6\n",
      "20604\n",
      "\n",
      "EDUCATION\n",
      "7\n",
      "\n",
      "ID\n",
      "30000\n",
      "\n",
      "LIMIT_BAL\n",
      "81\n",
      "\n",
      "MARRIAGE\n",
      "4\n",
      "\n",
      "PAY_0\n",
      "11\n",
      "\n",
      "PAY_2\n",
      "11\n",
      "\n",
      "PAY_3\n",
      "11\n",
      "\n",
      "PAY_4\n",
      "11\n",
      "\n",
      "PAY_5\n",
      "10\n",
      "\n",
      "PAY_6\n",
      "10\n",
      "\n",
      "PAY_AMT1\n",
      "7943\n",
      "\n",
      "PAY_AMT2\n",
      "7899\n",
      "\n",
      "PAY_AMT3\n",
      "7518\n",
      "\n",
      "PAY_AMT4\n",
      "6937\n",
      "\n",
      "PAY_AMT5\n",
      "6897\n",
      "\n",
      "PAY_AMT6\n",
      "6939\n",
      "\n",
      "SEX\n",
      "2\n",
      "\n",
      "default_payment_next_month\n",
      "2\n",
      "\n",
      "train/test\n",
      "2\n",
      "\n"
     ]
    }
   ],
   "source": [
    "for i in df.columns:\n",
    "    print(i)\n",
    "    print(df[i].nunique())\n",
    "    print()"
   ]
  },
  {
   "cell_type": "code",
   "execution_count": 274,
   "metadata": {},
   "outputs": [
    {
     "data": {
      "text/html": [
       "<div>\n",
       "<style scoped>\n",
       "    .dataframe tbody tr th:only-of-type {\n",
       "        vertical-align: middle;\n",
       "    }\n",
       "\n",
       "    .dataframe tbody tr th {\n",
       "        vertical-align: top;\n",
       "    }\n",
       "\n",
       "    .dataframe thead th {\n",
       "        text-align: right;\n",
       "    }\n",
       "</style>\n",
       "<table border=\"1\" class=\"dataframe\">\n",
       "  <thead>\n",
       "    <tr style=\"text-align: right;\">\n",
       "      <th></th>\n",
       "      <th>AGE</th>\n",
       "      <th>BILL_AMT1</th>\n",
       "      <th>BILL_AMT2</th>\n",
       "      <th>BILL_AMT3</th>\n",
       "      <th>BILL_AMT4</th>\n",
       "      <th>BILL_AMT5</th>\n",
       "      <th>BILL_AMT6</th>\n",
       "      <th>EDUCATION</th>\n",
       "      <th>ID</th>\n",
       "      <th>LIMIT_BAL</th>\n",
       "      <th>...</th>\n",
       "      <th>PAY_6</th>\n",
       "      <th>PAY_AMT1</th>\n",
       "      <th>PAY_AMT2</th>\n",
       "      <th>PAY_AMT3</th>\n",
       "      <th>PAY_AMT4</th>\n",
       "      <th>PAY_AMT5</th>\n",
       "      <th>PAY_AMT6</th>\n",
       "      <th>SEX</th>\n",
       "      <th>default_payment_next_month</th>\n",
       "      <th>train/test</th>\n",
       "    </tr>\n",
       "  </thead>\n",
       "  <tbody>\n",
       "    <tr>\n",
       "      <th>0</th>\n",
       "      <td>25</td>\n",
       "      <td>20952</td>\n",
       "      <td>12590</td>\n",
       "      <td>3479</td>\n",
       "      <td>3435</td>\n",
       "      <td>8870</td>\n",
       "      <td>2020</td>\n",
       "      <td>2</td>\n",
       "      <td>25150</td>\n",
       "      <td>360000</td>\n",
       "      <td>...</td>\n",
       "      <td>-1</td>\n",
       "      <td>12590</td>\n",
       "      <td>3479</td>\n",
       "      <td>3446</td>\n",
       "      <td>8870</td>\n",
       "      <td>2020</td>\n",
       "      <td>27043</td>\n",
       "      <td>2</td>\n",
       "      <td>0.0</td>\n",
       "      <td>1</td>\n",
       "    </tr>\n",
       "    <tr>\n",
       "      <th>1</th>\n",
       "      <td>46</td>\n",
       "      <td>456</td>\n",
       "      <td>0</td>\n",
       "      <td>0</td>\n",
       "      <td>2240</td>\n",
       "      <td>1681</td>\n",
       "      <td>2267</td>\n",
       "      <td>1</td>\n",
       "      <td>13470</td>\n",
       "      <td>240000</td>\n",
       "      <td>...</td>\n",
       "      <td>-1</td>\n",
       "      <td>0</td>\n",
       "      <td>0</td>\n",
       "      <td>2240</td>\n",
       "      <td>0</td>\n",
       "      <td>2267</td>\n",
       "      <td>3074</td>\n",
       "      <td>2</td>\n",
       "      <td>0.0</td>\n",
       "      <td>1</td>\n",
       "    </tr>\n",
       "    <tr>\n",
       "      <th>2</th>\n",
       "      <td>41</td>\n",
       "      <td>49846</td>\n",
       "      <td>53811</td>\n",
       "      <td>38717</td>\n",
       "      <td>35409</td>\n",
       "      <td>35036</td>\n",
       "      <td>35939</td>\n",
       "      <td>2</td>\n",
       "      <td>3092</td>\n",
       "      <td>320000</td>\n",
       "      <td>...</td>\n",
       "      <td>0</td>\n",
       "      <td>5000</td>\n",
       "      <td>2000</td>\n",
       "      <td>2000</td>\n",
       "      <td>3000</td>\n",
       "      <td>3000</td>\n",
       "      <td>1500</td>\n",
       "      <td>2</td>\n",
       "      <td>0.0</td>\n",
       "      <td>1</td>\n",
       "    </tr>\n",
       "    <tr>\n",
       "      <th>3</th>\n",
       "      <td>24</td>\n",
       "      <td>2675</td>\n",
       "      <td>0</td>\n",
       "      <td>0</td>\n",
       "      <td>0</td>\n",
       "      <td>0</td>\n",
       "      <td>0</td>\n",
       "      <td>2</td>\n",
       "      <td>13973</td>\n",
       "      <td>50000</td>\n",
       "      <td>...</td>\n",
       "      <td>-2</td>\n",
       "      <td>0</td>\n",
       "      <td>0</td>\n",
       "      <td>0</td>\n",
       "      <td>0</td>\n",
       "      <td>0</td>\n",
       "      <td>0</td>\n",
       "      <td>2</td>\n",
       "      <td>1.0</td>\n",
       "      <td>1</td>\n",
       "    </tr>\n",
       "    <tr>\n",
       "      <th>4</th>\n",
       "      <td>52</td>\n",
       "      <td>35861</td>\n",
       "      <td>18521</td>\n",
       "      <td>19385</td>\n",
       "      <td>20561</td>\n",
       "      <td>21261</td>\n",
       "      <td>21457</td>\n",
       "      <td>3</td>\n",
       "      <td>10567</td>\n",
       "      <td>80000</td>\n",
       "      <td>...</td>\n",
       "      <td>0</td>\n",
       "      <td>1500</td>\n",
       "      <td>1500</td>\n",
       "      <td>1500</td>\n",
       "      <td>1028</td>\n",
       "      <td>876</td>\n",
       "      <td>1449</td>\n",
       "      <td>1</td>\n",
       "      <td>0.0</td>\n",
       "      <td>1</td>\n",
       "    </tr>\n",
       "  </tbody>\n",
       "</table>\n",
       "<p>5 rows × 26 columns</p>\n",
       "</div>"
      ],
      "text/plain": [
       "   AGE  BILL_AMT1  BILL_AMT2  BILL_AMT3  BILL_AMT4  BILL_AMT5  BILL_AMT6  \\\n",
       "0   25      20952      12590       3479       3435       8870       2020   \n",
       "1   46        456          0          0       2240       1681       2267   \n",
       "2   41      49846      53811      38717      35409      35036      35939   \n",
       "3   24       2675          0          0          0          0          0   \n",
       "4   52      35861      18521      19385      20561      21261      21457   \n",
       "\n",
       "   EDUCATION     ID  LIMIT_BAL  ...  PAY_6  PAY_AMT1  PAY_AMT2  PAY_AMT3  \\\n",
       "0          2  25150     360000  ...     -1     12590      3479      3446   \n",
       "1          1  13470     240000  ...     -1         0         0      2240   \n",
       "2          2   3092     320000  ...      0      5000      2000      2000   \n",
       "3          2  13973      50000  ...     -2         0         0         0   \n",
       "4          3  10567      80000  ...      0      1500      1500      1500   \n",
       "\n",
       "   PAY_AMT4  PAY_AMT5  PAY_AMT6  SEX  default_payment_next_month  train/test  \n",
       "0      8870      2020     27043    2                         0.0           1  \n",
       "1         0      2267      3074    2                         0.0           1  \n",
       "2      3000      3000      1500    2                         0.0           1  \n",
       "3         0         0         0    2                         1.0           1  \n",
       "4      1028       876      1449    1                         0.0           1  \n",
       "\n",
       "[5 rows x 26 columns]"
      ]
     },
     "execution_count": 274,
     "metadata": {},
     "output_type": "execute_result"
    }
   ],
   "source": [
    "df.head()"
   ]
  },
  {
   "cell_type": "code",
   "execution_count": 275,
   "metadata": {},
   "outputs": [
    {
     "data": {
      "text/plain": [
       "(30000, 26)"
      ]
     },
     "execution_count": 275,
     "metadata": {},
     "output_type": "execute_result"
    }
   ],
   "source": [
    "df.shape"
   ]
  },
  {
   "cell_type": "markdown",
   "metadata": {},
   "source": [
    "# changinf the datatypes"
   ]
  },
  {
   "cell_type": "code",
   "execution_count": 276,
   "metadata": {},
   "outputs": [
    {
     "data": {
      "text/plain": [
       "Index(['AGE', 'BILL_AMT1', 'BILL_AMT2', 'BILL_AMT3', 'BILL_AMT4', 'BILL_AMT5',\n",
       "       'BILL_AMT6', 'EDUCATION', 'ID', 'LIMIT_BAL', 'MARRIAGE', 'PAY_0',\n",
       "       'PAY_2', 'PAY_3', 'PAY_4', 'PAY_5', 'PAY_6', 'PAY_AMT1', 'PAY_AMT2',\n",
       "       'PAY_AMT3', 'PAY_AMT4', 'PAY_AMT5', 'PAY_AMT6', 'SEX',\n",
       "       'default_payment_next_month', 'train/test'],\n",
       "      dtype='object')"
      ]
     },
     "execution_count": 276,
     "metadata": {},
     "output_type": "execute_result"
    }
   ],
   "source": [
    "df.columns"
   ]
  },
  {
   "cell_type": "code",
   "execution_count": 277,
   "metadata": {},
   "outputs": [],
   "source": [
    "cat_cols=['EDUCATION','MARRIAGE','PAY_0','PAY_2', 'PAY_3', 'PAY_4', 'PAY_5', 'PAY_6','SEX']"
   ]
  },
  {
   "cell_type": "code",
   "execution_count": 278,
   "metadata": {},
   "outputs": [],
   "source": [
    "df[cat_cols]=df[cat_cols].astype('object')"
   ]
  },
  {
   "cell_type": "code",
   "execution_count": 279,
   "metadata": {},
   "outputs": [
    {
     "name": "stdout",
     "output_type": "stream",
     "text": [
      "<class 'pandas.core.frame.DataFrame'>\n",
      "Int64Index: 30000 entries, 0 to 8999\n",
      "Data columns (total 26 columns):\n",
      "AGE                           30000 non-null int64\n",
      "BILL_AMT1                     30000 non-null int64\n",
      "BILL_AMT2                     30000 non-null int64\n",
      "BILL_AMT3                     30000 non-null int64\n",
      "BILL_AMT4                     30000 non-null int64\n",
      "BILL_AMT5                     30000 non-null int64\n",
      "BILL_AMT6                     30000 non-null int64\n",
      "EDUCATION                     30000 non-null object\n",
      "ID                            30000 non-null int64\n",
      "LIMIT_BAL                     30000 non-null int64\n",
      "MARRIAGE                      30000 non-null object\n",
      "PAY_0                         30000 non-null object\n",
      "PAY_2                         30000 non-null object\n",
      "PAY_3                         30000 non-null object\n",
      "PAY_4                         30000 non-null object\n",
      "PAY_5                         30000 non-null object\n",
      "PAY_6                         30000 non-null object\n",
      "PAY_AMT1                      30000 non-null int64\n",
      "PAY_AMT2                      30000 non-null int64\n",
      "PAY_AMT3                      30000 non-null int64\n",
      "PAY_AMT4                      30000 non-null int64\n",
      "PAY_AMT5                      30000 non-null int64\n",
      "PAY_AMT6                      30000 non-null int64\n",
      "SEX                           30000 non-null object\n",
      "default_payment_next_month    21000 non-null float64\n",
      "train/test                    30000 non-null int64\n",
      "dtypes: float64(1), int64(16), object(9)\n",
      "memory usage: 6.2+ MB\n"
     ]
    }
   ],
   "source": [
    "df.info()"
   ]
  },
  {
   "cell_type": "code",
   "execution_count": null,
   "metadata": {},
   "outputs": [],
   "source": []
  },
  {
   "cell_type": "markdown",
   "metadata": {},
   "source": [
    "# checking categorical features."
   ]
  },
  {
   "cell_type": "code",
   "execution_count": 280,
   "metadata": {
    "scrolled": true
   },
   "outputs": [
    {
     "name": "stdout",
     "output_type": "stream",
     "text": [
      "EDUCATION\n",
      "2    14030\n",
      "1    10585\n",
      "3     4917\n",
      "5      280\n",
      "4      123\n",
      "6       51\n",
      "0       14\n",
      "Name: EDUCATION, dtype: int64\n",
      "\n",
      "MARRIAGE\n",
      "2    15964\n",
      "1    13659\n",
      "3      323\n",
      "0       54\n",
      "Name: MARRIAGE, dtype: int64\n",
      "\n",
      "PAY_0\n",
      " 0    14737\n",
      "-1     5686\n",
      " 1     3688\n",
      "-2     2759\n",
      " 2     2667\n",
      " 3      322\n",
      " 4       76\n",
      " 5       26\n",
      " 8       19\n",
      " 6       11\n",
      " 7        9\n",
      "Name: PAY_0, dtype: int64\n",
      "\n",
      "PAY_2\n",
      " 0    15730\n",
      "-1     6050\n",
      " 2     3927\n",
      "-2     3782\n",
      " 3      326\n",
      " 4       99\n",
      " 1       28\n",
      " 5       25\n",
      " 7       20\n",
      " 6       12\n",
      " 8        1\n",
      "Name: PAY_2, dtype: int64\n",
      "\n",
      "PAY_3\n",
      " 0    15764\n",
      "-1     5938\n",
      "-2     4085\n",
      " 2     3819\n",
      " 3      240\n",
      " 4       76\n",
      " 7       27\n",
      " 6       23\n",
      " 5       21\n",
      " 1        4\n",
      " 8        3\n",
      "Name: PAY_3, dtype: int64\n",
      "\n",
      "PAY_4\n",
      " 0    16455\n",
      "-1     5687\n",
      "-2     4348\n",
      " 2     3159\n",
      " 3      180\n",
      " 4       69\n",
      " 7       58\n",
      " 5       35\n",
      " 6        5\n",
      " 8        2\n",
      " 1        2\n",
      "Name: PAY_4, dtype: int64\n",
      "\n",
      "PAY_5\n",
      " 0    16947\n",
      "-1     5539\n",
      "-2     4546\n",
      " 2     2626\n",
      " 3      178\n",
      " 4       84\n",
      " 7       58\n",
      " 5       17\n",
      " 6        4\n",
      " 8        1\n",
      "Name: PAY_5, dtype: int64\n",
      "\n",
      "PAY_6\n",
      " 0    16286\n",
      "-1     5740\n",
      "-2     4895\n",
      " 2     2766\n",
      " 3      184\n",
      " 4       49\n",
      " 7       46\n",
      " 6       19\n",
      " 5       13\n",
      " 8        2\n",
      "Name: PAY_6, dtype: int64\n",
      "\n",
      "SEX\n",
      "2    18112\n",
      "1    11888\n",
      "Name: SEX, dtype: int64\n",
      "\n"
     ]
    }
   ],
   "source": [
    "for i in df.columns:\n",
    "    if df[i].dtype=='object':\n",
    "        print(i)\n",
    "        print(df[i].value_counts())\n",
    "        print()"
   ]
  },
  {
   "cell_type": "code",
   "execution_count": 281,
   "metadata": {},
   "outputs": [],
   "source": [
    "df['EDUCATION']=df['EDUCATION'].apply(lambda x: 2 if x==0 else x)"
   ]
  },
  {
   "cell_type": "code",
   "execution_count": 282,
   "metadata": {},
   "outputs": [],
   "source": [
    "df['MARRIAGE']=df['MARRIAGE'].apply(lambda x: 2 if x==0 else x)"
   ]
  },
  {
   "cell_type": "code",
   "execution_count": 283,
   "metadata": {},
   "outputs": [],
   "source": [
    "df['PAY_0']=df['PAY_0'].apply(lambda x: -1 if x==-2 else x)"
   ]
  },
  {
   "cell_type": "code",
   "execution_count": 284,
   "metadata": {},
   "outputs": [],
   "source": [
    "df['PAY_2']=df['PAY_2'].apply(lambda x: -1 if x==-2 else x)\n",
    "df['PAY_3']=df['PAY_3'].apply(lambda x: -1 if  x==-2 else x)\n",
    "df['PAY_4']=df['PAY_4'].apply(lambda x: -1 if  x==-2 else x)\n",
    "df['PAY_5']=df['PAY_5'].apply(lambda x: -1 if  x==-2 else x)\n",
    "df['PAY_6']=df['PAY_6'].apply(lambda x: -1 if  x==-2 else x)"
   ]
  },
  {
   "cell_type": "code",
   "execution_count": null,
   "metadata": {},
   "outputs": [],
   "source": []
  },
  {
   "cell_type": "code",
   "execution_count": null,
   "metadata": {},
   "outputs": [],
   "source": []
  },
  {
   "cell_type": "code",
   "execution_count": 285,
   "metadata": {},
   "outputs": [
    {
     "data": {
      "image/png": "[encoded data removed]",
      "text/plain": [
       "<Figure size 1080x432 with 1 Axes>"
      ]
     },
     "metadata": {
      "needs_background": "light"
     },
     "output_type": "display_data"
    }
   ],
   "source": [
    "plt.figure(figsize=(15,6))\n",
    "sns.boxplot(x='PAY_5',y='LIMIT_BAL',data=df)\n",
    "plt.show()"
   ]
  },
  {
   "cell_type": "code",
   "execution_count": 286,
   "metadata": {},
   "outputs": [
    {
     "data": {
      "image/png": "[encoded data removed]",
      "text/plain": [
       "<Figure size 1080x432 with 1 Axes>"
      ]
     },
     "metadata": {
      "needs_background": "light"
     },
     "output_type": "display_data"
    }
   ],
   "source": [
    "plt.figure(figsize=(15,6))\n",
    "sns.boxplot(x='PAY_0',y='BILL_AMT1',data=df)\n",
    "plt.show()"
   ]
  },
  {
   "cell_type": "code",
   "execution_count": 287,
   "metadata": {},
   "outputs": [
    {
     "data": {
      "image/png": "[encoded data removed]",
      "text/plain": [
       "<Figure size 432x288 with 1 Axes>"
      ]
     },
     "metadata": {
      "needs_background": "light"
     },
     "output_type": "display_data"
    }
   ],
   "source": [
    "sns.countplot(x='PAY_0',data=train,hue='default_payment_next_month')\n",
    "plt.show()"
   ]
  },
  {
   "cell_type": "code",
   "execution_count": 288,
   "metadata": {},
   "outputs": [
    {
     "data": {
      "image/png": "[encoded data removed]",
      "text/plain": [
       "<Figure size 432x288 with 1 Axes>"
      ]
     },
     "metadata": {
      "needs_background": "light"
     },
     "output_type": "display_data"
    }
   ],
   "source": [
    "sns.countplot(x='PAY_2',data=train,hue='default_payment_next_month')\n",
    "plt.show()"
   ]
  },
  {
   "cell_type": "code",
   "execution_count": 289,
   "metadata": {},
   "outputs": [
    {
     "data": {
      "text/plain": [
       "0    0.77881\n",
       "1    0.22119\n",
       "Name: default_payment_next_month, dtype: float64"
      ]
     },
     "execution_count": 289,
     "metadata": {},
     "output_type": "execute_result"
    }
   ],
   "source": [
    "train['default_payment_next_month'].value_counts(normalize=True)"
   ]
  },
  {
   "cell_type": "code",
   "execution_count": null,
   "metadata": {},
   "outputs": [],
   "source": []
  },
  {
   "cell_type": "markdown",
   "metadata": {},
   "source": [
    "# checking numerical values"
   ]
  },
  {
   "cell_type": "code",
   "execution_count": 290,
   "metadata": {},
   "outputs": [
    {
     "name": "stdout",
     "output_type": "stream",
     "text": [
      "AGE\n",
      "AxesSubplot(0.125,0.125;0.775x0.755)\n"
     ]
    },
    {
     "data": {
      "image/png": "[encoded data removed]",
      "text/plain": [
       "<Figure size 432x288 with 1 Axes>"
      ]
     },
     "metadata": {
      "needs_background": "light"
     },
     "output_type": "display_data"
    },
    {
     "name": "stdout",
     "output_type": "stream",
     "text": [
      "\n",
      "BILL_AMT1\n",
      "AxesSubplot(0.125,0.125;0.775x0.755)\n"
     ]
    },
    {
     "data": {
      "image/png": "[encoded data removed]",
      "text/plain": [
       "<Figure size 432x288 with 1 Axes>"
      ]
     },
     "metadata": {
      "needs_background": "light"
     },
     "output_type": "display_data"
    },
    {
     "name": "stdout",
     "output_type": "stream",
     "text": [
      "\n",
      "BILL_AMT2\n",
      "AxesSubplot(0.125,0.125;0.775x0.755)\n"
     ]
    },
    {
     "data": {
      "image/png": "[encoded data removed]",
      "text/plain": [
       "<Figure size 432x288 with 1 Axes>"
      ]
     },
     "metadata": {
      "needs_background": "light"
     },
     "output_type": "display_data"
    },
    {
     "name": "stdout",
     "output_type": "stream",
     "text": [
      "\n",
      "BILL_AMT3\n",
      "AxesSubplot(0.125,0.125;0.775x0.755)\n"
     ]
    },
    {
     "data": {
      "image/png": "[encoded data removed]",
      "text/plain": [
       "<Figure size 432x288 with 1 Axes>"
      ]
     },
     "metadata": {
      "needs_background": "light"
     },
     "output_type": "display_data"
    },
    {
     "name": "stdout",
     "output_type": "stream",
     "text": [
      "\n",
      "BILL_AMT4\n",
      "AxesSubplot(0.125,0.125;0.775x0.755)\n"
     ]
    },
    {
     "data": {
      "image/png": "[encoded data removed]",
      "text/plain": [
       "<Figure size 432x288 with 1 Axes>"
      ]
     },
     "metadata": {
      "needs_background": "light"
     },
     "output_type": "display_data"
    },
    {
     "name": "stdout",
     "output_type": "stream",
     "text": [
      "\n",
      "BILL_AMT5\n",
      "AxesSubplot(0.125,0.125;0.775x0.755)\n"
     ]
    },
    {
     "data": {
      "image/png": "[encoded data removed]",
      "text/plain": [
       "<Figure size 432x288 with 1 Axes>"
      ]
     },
     "metadata": {
      "needs_background": "light"
     },
     "output_type": "display_data"
    },
    {
     "name": "stdout",
     "output_type": "stream",
     "text": [
      "\n",
      "BILL_AMT6\n",
      "AxesSubplot(0.125,0.125;0.775x0.755)\n"
     ]
    },
    {
     "data": {
      "image/png": "[encoded data removed]",
      "text/plain": [
       "<Figure size 432x288 with 1 Axes>"
      ]
     },
     "metadata": {
      "needs_background": "light"
     },
     "output_type": "display_data"
    },
    {
     "name": "stdout",
     "output_type": "stream",
     "text": [
      "\n",
      "ID\n",
      "AxesSubplot(0.125,0.125;0.775x0.755)\n"
     ]
    },
    {
     "data": {
      "image/png": "[encoded data removed]",
      "text/plain": [
       "<Figure size 432x288 with 1 Axes>"
      ]
     },
     "metadata": {
      "needs_background": "light"
     },
     "output_type": "display_data"
    },
    {
     "name": "stdout",
     "output_type": "stream",
     "text": [
      "\n",
      "LIMIT_BAL\n",
      "AxesSubplot(0.125,0.125;0.775x0.755)\n"
     ]
    },
    {
     "data": {
      "image/png": "[encoded data removed]",
      "text/plain": [
       "<Figure size 432x288 with 1 Axes>"
      ]
     },
     "metadata": {
      "needs_background": "light"
     },
     "output_type": "display_data"
    },
    {
     "name": "stdout",
     "output_type": "stream",
     "text": [
      "\n",
      "PAY_AMT1\n",
      "AxesSubplot(0.125,0.125;0.775x0.755)\n"
     ]
    },
    {
     "data": {
      "image/png": "[encoded data removed]",
      "text/plain": [
       "<Figure size 432x288 with 1 Axes>"
      ]
     },
     "metadata": {
      "needs_background": "light"
     },
     "output_type": "display_data"
    },
    {
     "name": "stdout",
     "output_type": "stream",
     "text": [
      "\n",
      "PAY_AMT2\n",
      "AxesSubplot(0.125,0.125;0.775x0.755)\n"
     ]
    },
    {
     "data": {
      "image/png": "[encoded data removed]",
      "text/plain": [
       "<Figure size 432x288 with 1 Axes>"
      ]
     },
     "metadata": {
      "needs_background": "light"
     },
     "output_type": "display_data"
    },
    {
     "name": "stdout",
     "output_type": "stream",
     "text": [
      "\n",
      "PAY_AMT3\n",
      "AxesSubplot(0.125,0.125;0.775x0.755)\n"
     ]
    },
    {
     "data": {
      "image/png": "[encoded data removed]",
      "text/plain": [
       "<Figure size 432x288 with 1 Axes>"
      ]
     },
     "metadata": {
      "needs_background": "light"
     },
     "output_type": "display_data"
    },
    {
     "name": "stdout",
     "output_type": "stream",
     "text": [
      "\n",
      "PAY_AMT4\n",
      "AxesSubplot(0.125,0.125;0.775x0.755)\n"
     ]
    },
    {
     "data": {
      "image/png": "[encoded data removed]",
      "text/plain": [
       "<Figure size 432x288 with 1 Axes>"
      ]
     },
     "metadata": {
      "needs_background": "light"
     },
     "output_type": "display_data"
    },
    {
     "name": "stdout",
     "output_type": "stream",
     "text": [
      "\n",
      "PAY_AMT5\n",
      "AxesSubplot(0.125,0.125;0.775x0.755)\n"
     ]
    },
    {
     "data": {
      "image/png": "[encoded data removed]",
      "text/plain": [
       "<Figure size 432x288 with 1 Axes>"
      ]
     },
     "metadata": {
      "needs_background": "light"
     },
     "output_type": "display_data"
    },
    {
     "name": "stdout",
     "output_type": "stream",
     "text": [
      "\n",
      "PAY_AMT6\n",
      "AxesSubplot(0.125,0.125;0.775x0.755)\n"
     ]
    },
    {
     "data": {
      "image/png": "[encoded data removed]",
      "text/plain": [
       "<Figure size 432x288 with 1 Axes>"
      ]
     },
     "metadata": {
      "needs_background": "light"
     },
     "output_type": "display_data"
    },
    {
     "name": "stdout",
     "output_type": "stream",
     "text": [
      "\n",
      "default_payment_next_month\n",
      "AxesSubplot(0.125,0.125;0.775x0.755)\n"
     ]
    },
    {
     "data": {
      "image/png": "[encoded data removed]",
      "text/plain": [
       "<Figure size 432x288 with 1 Axes>"
      ]
     },
     "metadata": {
      "needs_background": "light"
     },
     "output_type": "display_data"
    },
    {
     "name": "stdout",
     "output_type": "stream",
     "text": [
      "\n",
      "train/test\n",
      "AxesSubplot(0.125,0.125;0.775x0.755)\n"
     ]
    },
    {
     "data": {
      "image/png": "[encoded data removed]",
      "text/plain": [
       "<Figure size 432x288 with 1 Axes>"
      ]
     },
     "metadata": {
      "needs_background": "light"
     },
     "output_type": "display_data"
    },
    {
     "name": "stdout",
     "output_type": "stream",
     "text": [
      "\n"
     ]
    }
   ],
   "source": [
    "df[cat_cols]=df[cat_cols].astype('object')\n",
    "for i in df.columns:\n",
    "    if df[i].dtype!='object':\n",
    "        print(i)\n",
    "        print(sns.kdeplot(df[i]))\n",
    "        plt.show()\n",
    "        print()"
   ]
  },
  {
   "cell_type": "code",
   "execution_count": null,
   "metadata": {},
   "outputs": [],
   "source": []
  },
  {
   "cell_type": "code",
   "execution_count": 291,
   "metadata": {},
   "outputs": [
    {
     "data": {
      "image/png": "[encoded data removed]",
      "text/plain": [
       "<Figure size 1080x504 with 2 Axes>"
      ]
     },
     "metadata": {
      "needs_background": "light"
     },
     "output_type": "display_data"
    }
   ],
   "source": [
    "plt.figure(figsize=(15,7))\n",
    "sns.heatmap(df.corr(),annot=True)\n",
    "plt.show()"
   ]
  },
  {
   "cell_type": "code",
   "execution_count": 292,
   "metadata": {},
   "outputs": [
    {
     "data": {
      "text/html": [
       "<div>\n",
       "<style scoped>\n",
       "    .dataframe tbody tr th:only-of-type {\n",
       "        vertical-align: middle;\n",
       "    }\n",
       "\n",
       "    .dataframe tbody tr th {\n",
       "        vertical-align: top;\n",
       "    }\n",
       "\n",
       "    .dataframe thead th {\n",
       "        text-align: right;\n",
       "    }\n",
       "</style>\n",
       "<table border=\"1\" class=\"dataframe\">\n",
       "  <thead>\n",
       "    <tr style=\"text-align: right;\">\n",
       "      <th></th>\n",
       "      <th>AGE</th>\n",
       "      <th>BILL_AMT1</th>\n",
       "      <th>BILL_AMT2</th>\n",
       "      <th>BILL_AMT3</th>\n",
       "      <th>BILL_AMT4</th>\n",
       "      <th>BILL_AMT5</th>\n",
       "      <th>BILL_AMT6</th>\n",
       "      <th>EDUCATION</th>\n",
       "      <th>ID</th>\n",
       "      <th>LIMIT_BAL</th>\n",
       "      <th>...</th>\n",
       "      <th>PAY_6</th>\n",
       "      <th>PAY_AMT1</th>\n",
       "      <th>PAY_AMT2</th>\n",
       "      <th>PAY_AMT3</th>\n",
       "      <th>PAY_AMT4</th>\n",
       "      <th>PAY_AMT5</th>\n",
       "      <th>PAY_AMT6</th>\n",
       "      <th>SEX</th>\n",
       "      <th>default_payment_next_month</th>\n",
       "      <th>train/test</th>\n",
       "    </tr>\n",
       "  </thead>\n",
       "  <tbody>\n",
       "    <tr>\n",
       "      <th>0</th>\n",
       "      <td>25</td>\n",
       "      <td>20952</td>\n",
       "      <td>12590</td>\n",
       "      <td>3479</td>\n",
       "      <td>3435</td>\n",
       "      <td>8870</td>\n",
       "      <td>2020</td>\n",
       "      <td>2</td>\n",
       "      <td>25150</td>\n",
       "      <td>360000</td>\n",
       "      <td>...</td>\n",
       "      <td>-1</td>\n",
       "      <td>12590</td>\n",
       "      <td>3479</td>\n",
       "      <td>3446</td>\n",
       "      <td>8870</td>\n",
       "      <td>2020</td>\n",
       "      <td>27043</td>\n",
       "      <td>2</td>\n",
       "      <td>0.0</td>\n",
       "      <td>1</td>\n",
       "    </tr>\n",
       "    <tr>\n",
       "      <th>1</th>\n",
       "      <td>46</td>\n",
       "      <td>456</td>\n",
       "      <td>0</td>\n",
       "      <td>0</td>\n",
       "      <td>2240</td>\n",
       "      <td>1681</td>\n",
       "      <td>2267</td>\n",
       "      <td>1</td>\n",
       "      <td>13470</td>\n",
       "      <td>240000</td>\n",
       "      <td>...</td>\n",
       "      <td>-1</td>\n",
       "      <td>0</td>\n",
       "      <td>0</td>\n",
       "      <td>2240</td>\n",
       "      <td>0</td>\n",
       "      <td>2267</td>\n",
       "      <td>3074</td>\n",
       "      <td>2</td>\n",
       "      <td>0.0</td>\n",
       "      <td>1</td>\n",
       "    </tr>\n",
       "    <tr>\n",
       "      <th>2</th>\n",
       "      <td>41</td>\n",
       "      <td>49846</td>\n",
       "      <td>53811</td>\n",
       "      <td>38717</td>\n",
       "      <td>35409</td>\n",
       "      <td>35036</td>\n",
       "      <td>35939</td>\n",
       "      <td>2</td>\n",
       "      <td>3092</td>\n",
       "      <td>320000</td>\n",
       "      <td>...</td>\n",
       "      <td>0</td>\n",
       "      <td>5000</td>\n",
       "      <td>2000</td>\n",
       "      <td>2000</td>\n",
       "      <td>3000</td>\n",
       "      <td>3000</td>\n",
       "      <td>1500</td>\n",
       "      <td>2</td>\n",
       "      <td>0.0</td>\n",
       "      <td>1</td>\n",
       "    </tr>\n",
       "    <tr>\n",
       "      <th>3</th>\n",
       "      <td>24</td>\n",
       "      <td>2675</td>\n",
       "      <td>0</td>\n",
       "      <td>0</td>\n",
       "      <td>0</td>\n",
       "      <td>0</td>\n",
       "      <td>0</td>\n",
       "      <td>2</td>\n",
       "      <td>13973</td>\n",
       "      <td>50000</td>\n",
       "      <td>...</td>\n",
       "      <td>-1</td>\n",
       "      <td>0</td>\n",
       "      <td>0</td>\n",
       "      <td>0</td>\n",
       "      <td>0</td>\n",
       "      <td>0</td>\n",
       "      <td>0</td>\n",
       "      <td>2</td>\n",
       "      <td>1.0</td>\n",
       "      <td>1</td>\n",
       "    </tr>\n",
       "    <tr>\n",
       "      <th>4</th>\n",
       "      <td>52</td>\n",
       "      <td>35861</td>\n",
       "      <td>18521</td>\n",
       "      <td>19385</td>\n",
       "      <td>20561</td>\n",
       "      <td>21261</td>\n",
       "      <td>21457</td>\n",
       "      <td>3</td>\n",
       "      <td>10567</td>\n",
       "      <td>80000</td>\n",
       "      <td>...</td>\n",
       "      <td>0</td>\n",
       "      <td>1500</td>\n",
       "      <td>1500</td>\n",
       "      <td>1500</td>\n",
       "      <td>1028</td>\n",
       "      <td>876</td>\n",
       "      <td>1449</td>\n",
       "      <td>1</td>\n",
       "      <td>0.0</td>\n",
       "      <td>1</td>\n",
       "    </tr>\n",
       "  </tbody>\n",
       "</table>\n",
       "<p>5 rows × 26 columns</p>\n",
       "</div>"
      ],
      "text/plain": [
       "   AGE  BILL_AMT1  BILL_AMT2  BILL_AMT3  BILL_AMT4  BILL_AMT5  BILL_AMT6  \\\n",
       "0   25      20952      12590       3479       3435       8870       2020   \n",
       "1   46        456          0          0       2240       1681       2267   \n",
       "2   41      49846      53811      38717      35409      35036      35939   \n",
       "3   24       2675          0          0          0          0          0   \n",
       "4   52      35861      18521      19385      20561      21261      21457   \n",
       "\n",
       "  EDUCATION     ID  LIMIT_BAL  ... PAY_6 PAY_AMT1 PAY_AMT2 PAY_AMT3 PAY_AMT4  \\\n",
       "0         2  25150     360000  ...    -1    12590     3479     3446     8870   \n",
       "1         1  13470     240000  ...    -1        0        0     2240        0   \n",
       "2         2   3092     320000  ...     0     5000     2000     2000     3000   \n",
       "3         2  13973      50000  ...    -1        0        0        0        0   \n",
       "4         3  10567      80000  ...     0     1500     1500     1500     1028   \n",
       "\n",
       "  PAY_AMT5 PAY_AMT6  SEX  default_payment_next_month  train/test  \n",
       "0     2020    27043    2                         0.0           1  \n",
       "1     2267     3074    2                         0.0           1  \n",
       "2     3000     1500    2                         0.0           1  \n",
       "3        0        0    2                         1.0           1  \n",
       "4      876     1449    1                         0.0           1  \n",
       "\n",
       "[5 rows x 26 columns]"
      ]
     },
     "execution_count": 292,
     "metadata": {},
     "output_type": "execute_result"
    }
   ],
   "source": [
    "df.head()"
   ]
  },
  {
   "cell_type": "markdown",
   "metadata": {},
   "source": [
    "# splitting train and test:"
   ]
  },
  {
   "cell_type": "code",
   "execution_count": null,
   "metadata": {},
   "outputs": [],
   "source": []
  },
  {
   "cell_type": "code",
   "execution_count": 293,
   "metadata": {},
   "outputs": [
    {
     "name": "stdout",
     "output_type": "stream",
     "text": [
      "<class 'pandas.core.frame.DataFrame'>\n",
      "Int64Index: 30000 entries, 0 to 8999\n",
      "Data columns (total 26 columns):\n",
      "AGE                           30000 non-null int64\n",
      "BILL_AMT1                     30000 non-null int64\n",
      "BILL_AMT2                     30000 non-null int64\n",
      "BILL_AMT3                     30000 non-null int64\n",
      "BILL_AMT4                     30000 non-null int64\n",
      "BILL_AMT5                     30000 non-null int64\n",
      "BILL_AMT6                     30000 non-null int64\n",
      "EDUCATION                     30000 non-null object\n",
      "ID                            30000 non-null int64\n",
      "LIMIT_BAL                     30000 non-null int64\n",
      "MARRIAGE                      30000 non-null object\n",
      "PAY_0                         30000 non-null int64\n",
      "PAY_2                         30000 non-null int64\n",
      "PAY_3                         30000 non-null int64\n",
      "PAY_4                         30000 non-null int64\n",
      "PAY_5                         30000 non-null int64\n",
      "PAY_6                         30000 non-null int64\n",
      "PAY_AMT1                      30000 non-null int64\n",
      "PAY_AMT2                      30000 non-null int64\n",
      "PAY_AMT3                      30000 non-null int64\n",
      "PAY_AMT4                      30000 non-null int64\n",
      "PAY_AMT5                      30000 non-null int64\n",
      "PAY_AMT6                      30000 non-null int64\n",
      "SEX                           30000 non-null object\n",
      "default_payment_next_month    21000 non-null float64\n",
      "train/test                    30000 non-null int64\n",
      "dtypes: float64(1), int64(22), object(3)\n",
      "memory usage: 6.8+ MB\n"
     ]
    }
   ],
   "source": [
    "df[['PAY_0','PAY_2','PAY_3','PAY_4','PAY_5','PAY_6']]=df[['PAY_0','PAY_2','PAY_3','PAY_4','PAY_5','PAY_6']].astype('int64')\n",
    "df.info()"
   ]
  },
  {
   "cell_type": "code",
   "execution_count": 294,
   "metadata": {},
   "outputs": [],
   "source": [
    "#df=df.drop(columns=['ID'],axis=1)"
   ]
  },
  {
   "cell_type": "code",
   "execution_count": 295,
   "metadata": {},
   "outputs": [],
   "source": [
    "df_train=df[df['train/test']==1]\n",
    "df_test=df[df['train/test']==0]"
   ]
  },
  {
   "cell_type": "code",
   "execution_count": 296,
   "metadata": {},
   "outputs": [],
   "source": [
    "y_train=df_train['default_payment_next_month']\n",
    "x_train=df_train.drop(columns=['default_payment_next_month','train/test'],axis=1)\n",
    "x_test=df_test.drop(columns=['default_payment_next_month','train/test'],axis=1)"
   ]
  },
  {
   "cell_type": "code",
   "execution_count": 297,
   "metadata": {},
   "outputs": [
    {
     "name": "stdout",
     "output_type": "stream",
     "text": [
      "(21000, 24)\n",
      "(21000,)\n",
      "(9000, 24)\n"
     ]
    }
   ],
   "source": [
    "print(x_train.shape)\n",
    "print(y_train.shape)\n",
    "print(x_test.shape)\n"
   ]
  },
  {
   "cell_type": "code",
   "execution_count": null,
   "metadata": {},
   "outputs": [],
   "source": []
  },
  {
   "cell_type": "markdown",
   "metadata": {},
   "source": [
    "# base model"
   ]
  },
  {
   "cell_type": "code",
   "execution_count": 298,
   "metadata": {},
   "outputs": [],
   "source": [
    "from sklearn.linear_model import LogisticRegression\n",
    "logreg=LogisticRegression(solver='liblinear',fit_intercept=True)"
   ]
  },
  {
   "cell_type": "code",
   "execution_count": 299,
   "metadata": {},
   "outputs": [
    {
     "data": {
      "text/plain": [
       "LogisticRegression(C=1.0, class_weight=None, dual=False, fit_intercept=True,\n",
       "                   intercept_scaling=1, l1_ratio=None, max_iter=100,\n",
       "                   multi_class='warn', n_jobs=None, penalty='l2',\n",
       "                   random_state=None, solver='liblinear', tol=0.0001, verbose=0,\n",
       "                   warm_start=False)"
      ]
     },
     "execution_count": 299,
     "metadata": {},
     "output_type": "execute_result"
    }
   ],
   "source": [
    "logreg.fit(x_train,y_train)"
   ]
  },
  {
   "cell_type": "code",
   "execution_count": 300,
   "metadata": {},
   "outputs": [
    {
     "name": "stdout",
     "output_type": "stream",
     "text": [
      "0.499938856618771\n"
     ]
    }
   ],
   "source": [
    "y_train_pred=logreg.predict(x_train)\n",
    "from sklearn.metrics import roc_auc_score\n",
    "roc_auc_score=roc_auc_score(y_train,y_train_pred)\n",
    "print(roc_auc_score)"
   ]
  },
  {
   "cell_type": "code",
   "execution_count": null,
   "metadata": {},
   "outputs": [],
   "source": []
  },
  {
   "cell_type": "markdown",
   "metadata": {},
   "source": [
    "### trying different classifiers"
   ]
  },
  {
   "cell_type": "markdown",
   "metadata": {},
   "source": [
    "#### standardizing "
   ]
  },
  {
   "cell_type": "code",
   "execution_count": 301,
   "metadata": {},
   "outputs": [],
   "source": [
    "from sklearn.preprocessing import StandardScaler\n",
    "ss=StandardScaler()\n",
    "x_trains=ss.fit_transform(x_train)\n",
    "y_trains=y_train.copy()\n",
    "x_tests=ss.fit(x_test)"
   ]
  },
  {
   "cell_type": "code",
   "execution_count": null,
   "metadata": {},
   "outputs": [],
   "source": []
  },
  {
   "cell_type": "code",
   "execution_count": 302,
   "metadata": {},
   "outputs": [],
   "source": [
    "from sklearn.ensemble import RandomForestClassifier\n",
    "from sklearn.linear_model import LogisticRegression\n",
    "from sklearn.tree import DecisionTreeClassifier\n",
    "from sklearn.neighbors import KNeighborsClassifier\n",
    "from sklearn.naive_bayes import BernoulliNB\n",
    "from sklearn.ensemble import GradientBoostingClassifier\n",
    "\n",
    "lr=LogisticRegression()\n",
    "dt=DecisionTreeClassifier()\n",
    "rf=RandomForestClassifier()\n",
    "knn=KNeighborsClassifier()\n",
    "nb=BernoulliNB()\n",
    "gboost=GradientBoostingClassifier()\n",
    "#-----------------------------------------#\n",
    "models=[]\n",
    "models.append(('logistic_regression',lr))  \n",
    "models.append(('Naive Bayes',nb))                    # #we need to scale the data before applying \n",
    "    \n",
    "models.append(('knn',knn))                         #we need to scale the data.\n",
    "models.append(('decission tree',dt))\n",
    "models.append(('rf',rf))\n",
    "models.append(('gboost',gboost))"
   ]
  },
  {
   "cell_type": "code",
   "execution_count": 303,
   "metadata": {},
   "outputs": [
    {
     "name": "stdout",
     "output_type": "stream",
     "text": [
      "logistic_regression:0.730345 (0.000153)\n",
      "Naive Bayes:0.698133 (0.000225)\n",
      "knn:0.704515 (0.000399)\n",
      "decission tree:0.613721 (0.000048)\n",
      "rf:0.735417 (0.000223)\n",
      "gboost:0.784700 (0.000162)\n"
     ]
    },
    {
     "data": {
      "image/png": "[encoded data removed]",
      "text/plain": [
       "<Figure size 432x288 with 1 Axes>"
      ]
     },
     "metadata": {
      "needs_background": "light"
     },
     "output_type": "display_data"
    }
   ],
   "source": [
    "from sklearn.model_selection import KFold\n",
    "from sklearn.model_selection import cross_val_score\n",
    "results=[]\n",
    "names=[]\n",
    "import warnings\n",
    "for name,model in models:\n",
    "    warnings.simplefilter('ignore')\n",
    "    kfold=KFold(shuffle=True,n_splits=10,random_state=1)\n",
    "    cv_results=cross_val_score(model,x_trains,y_trains,cv=kfold,scoring='roc_auc') \n",
    "    results.append(cv_results)\n",
    "    names.append(name)\n",
    "    print(\"%s:%f (%f)\" % (name,np.mean(cv_results),np.var(cv_results,ddof=1)))  ##we have 10 auc scores. we are taking its average.\n",
    "    \n",
    "#boxplot algorithm comparison\n",
    "\n",
    "fig=plt.figure()\n",
    "fig.suptitle('algorithm comparison')\n",
    "ax=fig.add_subplot(111)\n",
    "plt.xlabel(names)\n",
    "plt.boxplot(results)\n",
    "plt.show()"
   ]
  },
  {
   "cell_type": "code",
   "execution_count": null,
   "metadata": {},
   "outputs": [],
   "source": []
  },
  {
   "cell_type": "markdown",
   "metadata": {},
   "source": [
    "# feature Engineering (average of bill amount)"
   ]
  },
  {
   "cell_type": "code",
   "execution_count": 304,
   "metadata": {},
   "outputs": [
    {
     "data": {
      "text/html": [
       "<div>\n",
       "<style scoped>\n",
       "    .dataframe tbody tr th:only-of-type {\n",
       "        vertical-align: middle;\n",
       "    }\n",
       "\n",
       "    .dataframe tbody tr th {\n",
       "        vertical-align: top;\n",
       "    }\n",
       "\n",
       "    .dataframe thead th {\n",
       "        text-align: right;\n",
       "    }\n",
       "</style>\n",
       "<table border=\"1\" class=\"dataframe\">\n",
       "  <thead>\n",
       "    <tr style=\"text-align: right;\">\n",
       "      <th></th>\n",
       "      <th>AGE</th>\n",
       "      <th>BILL_AMT1</th>\n",
       "      <th>BILL_AMT2</th>\n",
       "      <th>BILL_AMT3</th>\n",
       "      <th>BILL_AMT4</th>\n",
       "      <th>BILL_AMT5</th>\n",
       "      <th>BILL_AMT6</th>\n",
       "      <th>EDUCATION</th>\n",
       "      <th>ID</th>\n",
       "      <th>LIMIT_BAL</th>\n",
       "      <th>...</th>\n",
       "      <th>PAY_6</th>\n",
       "      <th>PAY_AMT1</th>\n",
       "      <th>PAY_AMT2</th>\n",
       "      <th>PAY_AMT3</th>\n",
       "      <th>PAY_AMT4</th>\n",
       "      <th>PAY_AMT5</th>\n",
       "      <th>PAY_AMT6</th>\n",
       "      <th>SEX</th>\n",
       "      <th>default_payment_next_month</th>\n",
       "      <th>train/test</th>\n",
       "    </tr>\n",
       "  </thead>\n",
       "  <tbody>\n",
       "    <tr>\n",
       "      <th>0</th>\n",
       "      <td>25</td>\n",
       "      <td>20952</td>\n",
       "      <td>12590</td>\n",
       "      <td>3479</td>\n",
       "      <td>3435</td>\n",
       "      <td>8870</td>\n",
       "      <td>2020</td>\n",
       "      <td>2</td>\n",
       "      <td>25150</td>\n",
       "      <td>360000</td>\n",
       "      <td>...</td>\n",
       "      <td>-1</td>\n",
       "      <td>12590</td>\n",
       "      <td>3479</td>\n",
       "      <td>3446</td>\n",
       "      <td>8870</td>\n",
       "      <td>2020</td>\n",
       "      <td>27043</td>\n",
       "      <td>2</td>\n",
       "      <td>0.0</td>\n",
       "      <td>1</td>\n",
       "    </tr>\n",
       "    <tr>\n",
       "      <th>1</th>\n",
       "      <td>46</td>\n",
       "      <td>456</td>\n",
       "      <td>0</td>\n",
       "      <td>0</td>\n",
       "      <td>2240</td>\n",
       "      <td>1681</td>\n",
       "      <td>2267</td>\n",
       "      <td>1</td>\n",
       "      <td>13470</td>\n",
       "      <td>240000</td>\n",
       "      <td>...</td>\n",
       "      <td>-1</td>\n",
       "      <td>0</td>\n",
       "      <td>0</td>\n",
       "      <td>2240</td>\n",
       "      <td>0</td>\n",
       "      <td>2267</td>\n",
       "      <td>3074</td>\n",
       "      <td>2</td>\n",
       "      <td>0.0</td>\n",
       "      <td>1</td>\n",
       "    </tr>\n",
       "    <tr>\n",
       "      <th>2</th>\n",
       "      <td>41</td>\n",
       "      <td>49846</td>\n",
       "      <td>53811</td>\n",
       "      <td>38717</td>\n",
       "      <td>35409</td>\n",
       "      <td>35036</td>\n",
       "      <td>35939</td>\n",
       "      <td>2</td>\n",
       "      <td>3092</td>\n",
       "      <td>320000</td>\n",
       "      <td>...</td>\n",
       "      <td>0</td>\n",
       "      <td>5000</td>\n",
       "      <td>2000</td>\n",
       "      <td>2000</td>\n",
       "      <td>3000</td>\n",
       "      <td>3000</td>\n",
       "      <td>1500</td>\n",
       "      <td>2</td>\n",
       "      <td>0.0</td>\n",
       "      <td>1</td>\n",
       "    </tr>\n",
       "    <tr>\n",
       "      <th>3</th>\n",
       "      <td>24</td>\n",
       "      <td>2675</td>\n",
       "      <td>0</td>\n",
       "      <td>0</td>\n",
       "      <td>0</td>\n",
       "      <td>0</td>\n",
       "      <td>0</td>\n",
       "      <td>2</td>\n",
       "      <td>13973</td>\n",
       "      <td>50000</td>\n",
       "      <td>...</td>\n",
       "      <td>-1</td>\n",
       "      <td>0</td>\n",
       "      <td>0</td>\n",
       "      <td>0</td>\n",
       "      <td>0</td>\n",
       "      <td>0</td>\n",
       "      <td>0</td>\n",
       "      <td>2</td>\n",
       "      <td>1.0</td>\n",
       "      <td>1</td>\n",
       "    </tr>\n",
       "    <tr>\n",
       "      <th>4</th>\n",
       "      <td>52</td>\n",
       "      <td>35861</td>\n",
       "      <td>18521</td>\n",
       "      <td>19385</td>\n",
       "      <td>20561</td>\n",
       "      <td>21261</td>\n",
       "      <td>21457</td>\n",
       "      <td>3</td>\n",
       "      <td>10567</td>\n",
       "      <td>80000</td>\n",
       "      <td>...</td>\n",
       "      <td>0</td>\n",
       "      <td>1500</td>\n",
       "      <td>1500</td>\n",
       "      <td>1500</td>\n",
       "      <td>1028</td>\n",
       "      <td>876</td>\n",
       "      <td>1449</td>\n",
       "      <td>1</td>\n",
       "      <td>0.0</td>\n",
       "      <td>1</td>\n",
       "    </tr>\n",
       "  </tbody>\n",
       "</table>\n",
       "<p>5 rows × 26 columns</p>\n",
       "</div>"
      ],
      "text/plain": [
       "   AGE  BILL_AMT1  BILL_AMT2  BILL_AMT3  BILL_AMT4  BILL_AMT5  BILL_AMT6  \\\n",
       "0   25      20952      12590       3479       3435       8870       2020   \n",
       "1   46        456          0          0       2240       1681       2267   \n",
       "2   41      49846      53811      38717      35409      35036      35939   \n",
       "3   24       2675          0          0          0          0          0   \n",
       "4   52      35861      18521      19385      20561      21261      21457   \n",
       "\n",
       "  EDUCATION     ID  LIMIT_BAL  ... PAY_6  PAY_AMT1  PAY_AMT2  PAY_AMT3  \\\n",
       "0         2  25150     360000  ...    -1     12590      3479      3446   \n",
       "1         1  13470     240000  ...    -1         0         0      2240   \n",
       "2         2   3092     320000  ...     0      5000      2000      2000   \n",
       "3         2  13973      50000  ...    -1         0         0         0   \n",
       "4         3  10567      80000  ...     0      1500      1500      1500   \n",
       "\n",
       "   PAY_AMT4  PAY_AMT5  PAY_AMT6  SEX  default_payment_next_month  train/test  \n",
       "0      8870      2020     27043    2                         0.0           1  \n",
       "1         0      2267      3074    2                         0.0           1  \n",
       "2      3000      3000      1500    2                         0.0           1  \n",
       "3         0         0         0    2                         1.0           1  \n",
       "4      1028       876      1449    1                         0.0           1  \n",
       "\n",
       "[5 rows x 26 columns]"
      ]
     },
     "execution_count": 304,
     "metadata": {},
     "output_type": "execute_result"
    }
   ],
   "source": [
    "df.head()"
   ]
  },
  {
   "cell_type": "code",
   "execution_count": 305,
   "metadata": {},
   "outputs": [],
   "source": [
    "df1=df.copy()\n",
    "df1['avg_BillAmnt']=(df1['BILL_AMT1']+df1['BILL_AMT2']+df1['BILL_AMT3']+df1['BILL_AMT4']+df1['BILL_AMT5']+df1['BILL_AMT6'])/6\n",
    "df1=df1.drop(columns=['BILL_AMT1','BILL_AMT2','BILL_AMT3','BILL_AMT4','BILL_AMT5','BILL_AMT6'],axis=1)"
   ]
  },
  {
   "cell_type": "code",
   "execution_count": null,
   "metadata": {},
   "outputs": [],
   "source": []
  },
  {
   "cell_type": "code",
   "execution_count": 306,
   "metadata": {},
   "outputs": [],
   "source": [
    "df_train=df1[df1['train/test']==1]\n",
    "df_test=df1[df1['train/test']==0]\n",
    "y_train=df_train['default_payment_next_month']\n",
    "x_train=df_train.drop(columns=['default_payment_next_month','train/test'],axis=1)\n",
    "x_test=df_test.drop(columns=['default_payment_next_month','train/test'],axis=1)\n",
    "\n",
    "from sklearn.preprocessing import StandardScaler\n",
    "ss=StandardScaler()\n",
    "x_trains=ss.fit_transform(x_train)\n",
    "y_trains=y_train.copy()\n",
    "x_tests=ss.fit(x_test)"
   ]
  },
  {
   "cell_type": "code",
   "execution_count": 307,
   "metadata": {},
   "outputs": [],
   "source": [
    "from sklearn.ensemble import RandomForestClassifier\n",
    "from sklearn.linear_model import LogisticRegression\n",
    "from sklearn.tree import DecisionTreeClassifier\n",
    "from sklearn.neighbors import KNeighborsClassifier\n",
    "from sklearn.naive_bayes import BernoulliNB\n",
    "from sklearn.ensemble import GradientBoostingClassifier\n",
    "\n",
    "lr=LogisticRegression()\n",
    "dt=DecisionTreeClassifier()\n",
    "rf=RandomForestClassifier()\n",
    "knn=KNeighborsClassifier()\n",
    "nb=BernoulliNB()\n",
    "gboost=GradientBoostingClassifier()\n",
    "#-----------------------------------------#\n",
    "models=[]\n",
    "models.append(('logistic_regression',lr))  \n",
    "models.append(('Naive Bayes',nb))                    # #we need to scale the data before applying \n",
    "    \n",
    "models.append(('knn',knn))                         #we need to scale the data.\n",
    "models.append(('decission tree',dt))\n",
    "models.append(('rf',rf))\n",
    "models.append(('gboost',gboost))"
   ]
  },
  {
   "cell_type": "code",
   "execution_count": 308,
   "metadata": {},
   "outputs": [
    {
     "name": "stdout",
     "output_type": "stream",
     "text": [
      "logistic_regression:0.729265 (0.000168)\n",
      "Naive Bayes:0.698775 (0.000238)\n",
      "knn:0.702948 (0.000308)\n",
      "decission tree:0.613596 (0.000259)\n",
      "rf:0.733071 (0.000226)\n",
      "gboost:0.784157 (0.000157)\n"
     ]
    },
    {
     "data": {
      "image/png": "[encoded data removed]",
      "text/plain": [
       "<Figure size 432x288 with 1 Axes>"
      ]
     },
     "metadata": {
      "needs_background": "light"
     },
     "output_type": "display_data"
    }
   ],
   "source": [
    "from sklearn.model_selection import KFold\n",
    "from sklearn.model_selection import cross_val_score\n",
    "results=[]\n",
    "names=[]\n",
    "import warnings\n",
    "for name,model in models:\n",
    "    warnings.simplefilter('ignore')\n",
    "    kfold=KFold(shuffle=True,n_splits=10,random_state=1)\n",
    "    cv_results=cross_val_score(model,x_trains,y_trains,cv=kfold,scoring='roc_auc') \n",
    "    results.append(cv_results)\n",
    "    names.append(name)\n",
    "    print(\"%s:%f (%f)\" % (name,np.mean(cv_results),np.var(cv_results,ddof=1)))  ##we have 10 auc scores. we are taking its average.\n",
    "    \n",
    "#boxplot algorithm comparison\n",
    "\n",
    "fig=plt.figure()\n",
    "fig.suptitle('algorithm comparison')\n",
    "ax=fig.add_subplot(111)\n",
    "plt.xlabel(names)\n",
    "plt.boxplot(results)\n",
    "plt.show()"
   ]
  },
  {
   "cell_type": "code",
   "execution_count": null,
   "metadata": {},
   "outputs": [],
   "source": []
  },
  {
   "cell_type": "markdown",
   "metadata": {},
   "source": [
    "# feature engineering (average of pay amount+ avgbill amount)"
   ]
  },
  {
   "cell_type": "code",
   "execution_count": 309,
   "metadata": {},
   "outputs": [
    {
     "data": {
      "text/html": [
       "<div>\n",
       "<style scoped>\n",
       "    .dataframe tbody tr th:only-of-type {\n",
       "        vertical-align: middle;\n",
       "    }\n",
       "\n",
       "    .dataframe tbody tr th {\n",
       "        vertical-align: top;\n",
       "    }\n",
       "\n",
       "    .dataframe thead th {\n",
       "        text-align: right;\n",
       "    }\n",
       "</style>\n",
       "<table border=\"1\" class=\"dataframe\">\n",
       "  <thead>\n",
       "    <tr style=\"text-align: right;\">\n",
       "      <th></th>\n",
       "      <th>AGE</th>\n",
       "      <th>EDUCATION</th>\n",
       "      <th>ID</th>\n",
       "      <th>LIMIT_BAL</th>\n",
       "      <th>MARRIAGE</th>\n",
       "      <th>PAY_0</th>\n",
       "      <th>PAY_2</th>\n",
       "      <th>PAY_3</th>\n",
       "      <th>PAY_4</th>\n",
       "      <th>PAY_5</th>\n",
       "      <th>...</th>\n",
       "      <th>PAY_AMT1</th>\n",
       "      <th>PAY_AMT2</th>\n",
       "      <th>PAY_AMT3</th>\n",
       "      <th>PAY_AMT4</th>\n",
       "      <th>PAY_AMT5</th>\n",
       "      <th>PAY_AMT6</th>\n",
       "      <th>SEX</th>\n",
       "      <th>default_payment_next_month</th>\n",
       "      <th>train/test</th>\n",
       "      <th>avg_BillAmnt</th>\n",
       "    </tr>\n",
       "  </thead>\n",
       "  <tbody>\n",
       "    <tr>\n",
       "      <th>0</th>\n",
       "      <td>25</td>\n",
       "      <td>2</td>\n",
       "      <td>25150</td>\n",
       "      <td>360000</td>\n",
       "      <td>2</td>\n",
       "      <td>-1</td>\n",
       "      <td>-1</td>\n",
       "      <td>-1</td>\n",
       "      <td>-1</td>\n",
       "      <td>-1</td>\n",
       "      <td>...</td>\n",
       "      <td>12590</td>\n",
       "      <td>3479</td>\n",
       "      <td>3446</td>\n",
       "      <td>8870</td>\n",
       "      <td>2020</td>\n",
       "      <td>27043</td>\n",
       "      <td>2</td>\n",
       "      <td>0.0</td>\n",
       "      <td>1</td>\n",
       "      <td>8557.666667</td>\n",
       "    </tr>\n",
       "    <tr>\n",
       "      <th>1</th>\n",
       "      <td>46</td>\n",
       "      <td>1</td>\n",
       "      <td>13470</td>\n",
       "      <td>240000</td>\n",
       "      <td>2</td>\n",
       "      <td>2</td>\n",
       "      <td>2</td>\n",
       "      <td>-1</td>\n",
       "      <td>-1</td>\n",
       "      <td>0</td>\n",
       "      <td>...</td>\n",
       "      <td>0</td>\n",
       "      <td>0</td>\n",
       "      <td>2240</td>\n",
       "      <td>0</td>\n",
       "      <td>2267</td>\n",
       "      <td>3074</td>\n",
       "      <td>2</td>\n",
       "      <td>0.0</td>\n",
       "      <td>1</td>\n",
       "      <td>1107.333333</td>\n",
       "    </tr>\n",
       "    <tr>\n",
       "      <th>2</th>\n",
       "      <td>41</td>\n",
       "      <td>2</td>\n",
       "      <td>3092</td>\n",
       "      <td>320000</td>\n",
       "      <td>1</td>\n",
       "      <td>0</td>\n",
       "      <td>0</td>\n",
       "      <td>0</td>\n",
       "      <td>0</td>\n",
       "      <td>0</td>\n",
       "      <td>...</td>\n",
       "      <td>5000</td>\n",
       "      <td>2000</td>\n",
       "      <td>2000</td>\n",
       "      <td>3000</td>\n",
       "      <td>3000</td>\n",
       "      <td>1500</td>\n",
       "      <td>2</td>\n",
       "      <td>0.0</td>\n",
       "      <td>1</td>\n",
       "      <td>41459.666667</td>\n",
       "    </tr>\n",
       "  </tbody>\n",
       "</table>\n",
       "<p>3 rows × 21 columns</p>\n",
       "</div>"
      ],
      "text/plain": [
       "   AGE EDUCATION     ID  LIMIT_BAL MARRIAGE  PAY_0  PAY_2  PAY_3  PAY_4  \\\n",
       "0   25         2  25150     360000        2     -1     -1     -1     -1   \n",
       "1   46         1  13470     240000        2      2      2     -1     -1   \n",
       "2   41         2   3092     320000        1      0      0      0      0   \n",
       "\n",
       "   PAY_5  ...  PAY_AMT1  PAY_AMT2  PAY_AMT3  PAY_AMT4  PAY_AMT5  PAY_AMT6  \\\n",
       "0     -1  ...     12590      3479      3446      8870      2020     27043   \n",
       "1      0  ...         0         0      2240         0      2267      3074   \n",
       "2      0  ...      5000      2000      2000      3000      3000      1500   \n",
       "\n",
       "   SEX default_payment_next_month  train/test  avg_BillAmnt  \n",
       "0    2                        0.0           1   8557.666667  \n",
       "1    2                        0.0           1   1107.333333  \n",
       "2    2                        0.0           1  41459.666667  \n",
       "\n",
       "[3 rows x 21 columns]"
      ]
     },
     "execution_count": 309,
     "metadata": {},
     "output_type": "execute_result"
    }
   ],
   "source": [
    "df1.head(3)"
   ]
  },
  {
   "cell_type": "code",
   "execution_count": 310,
   "metadata": {},
   "outputs": [],
   "source": [
    "df1['avg_pay_amt']=(df1['PAY_AMT1']+df1['PAY_AMT2']+df1['PAY_AMT3']+df1['PAY_AMT4']+df1['PAY_AMT5']+df1['PAY_AMT6'])/6\n",
    "df1=df1.drop(columns=['PAY_AMT1','PAY_AMT2','PAY_AMT3','PAY_AMT4','PAY_AMT5','PAY_AMT6'],axis=1)"
   ]
  },
  {
   "cell_type": "code",
   "execution_count": 311,
   "metadata": {},
   "outputs": [
    {
     "data": {
      "text/html": [
       "<div>\n",
       "<style scoped>\n",
       "    .dataframe tbody tr th:only-of-type {\n",
       "        vertical-align: middle;\n",
       "    }\n",
       "\n",
       "    .dataframe tbody tr th {\n",
       "        vertical-align: top;\n",
       "    }\n",
       "\n",
       "    .dataframe thead th {\n",
       "        text-align: right;\n",
       "    }\n",
       "</style>\n",
       "<table border=\"1\" class=\"dataframe\">\n",
       "  <thead>\n",
       "    <tr style=\"text-align: right;\">\n",
       "      <th></th>\n",
       "      <th>AGE</th>\n",
       "      <th>EDUCATION</th>\n",
       "      <th>ID</th>\n",
       "      <th>LIMIT_BAL</th>\n",
       "      <th>MARRIAGE</th>\n",
       "      <th>PAY_0</th>\n",
       "      <th>PAY_2</th>\n",
       "      <th>PAY_3</th>\n",
       "      <th>PAY_4</th>\n",
       "      <th>PAY_5</th>\n",
       "      <th>PAY_6</th>\n",
       "      <th>SEX</th>\n",
       "      <th>default_payment_next_month</th>\n",
       "      <th>train/test</th>\n",
       "      <th>avg_BillAmnt</th>\n",
       "      <th>avg_pay_amt</th>\n",
       "    </tr>\n",
       "  </thead>\n",
       "  <tbody>\n",
       "    <tr>\n",
       "      <th>0</th>\n",
       "      <td>25</td>\n",
       "      <td>2</td>\n",
       "      <td>25150</td>\n",
       "      <td>360000</td>\n",
       "      <td>2</td>\n",
       "      <td>-1</td>\n",
       "      <td>-1</td>\n",
       "      <td>-1</td>\n",
       "      <td>-1</td>\n",
       "      <td>-1</td>\n",
       "      <td>-1</td>\n",
       "      <td>2</td>\n",
       "      <td>0.0</td>\n",
       "      <td>1</td>\n",
       "      <td>8557.666667</td>\n",
       "      <td>9574.666667</td>\n",
       "    </tr>\n",
       "    <tr>\n",
       "      <th>1</th>\n",
       "      <td>46</td>\n",
       "      <td>1</td>\n",
       "      <td>13470</td>\n",
       "      <td>240000</td>\n",
       "      <td>2</td>\n",
       "      <td>2</td>\n",
       "      <td>2</td>\n",
       "      <td>-1</td>\n",
       "      <td>-1</td>\n",
       "      <td>0</td>\n",
       "      <td>-1</td>\n",
       "      <td>2</td>\n",
       "      <td>0.0</td>\n",
       "      <td>1</td>\n",
       "      <td>1107.333333</td>\n",
       "      <td>1263.500000</td>\n",
       "    </tr>\n",
       "  </tbody>\n",
       "</table>\n",
       "</div>"
      ],
      "text/plain": [
       "   AGE EDUCATION     ID  LIMIT_BAL MARRIAGE  PAY_0  PAY_2  PAY_3  PAY_4  \\\n",
       "0   25         2  25150     360000        2     -1     -1     -1     -1   \n",
       "1   46         1  13470     240000        2      2      2     -1     -1   \n",
       "\n",
       "   PAY_5  PAY_6 SEX  default_payment_next_month  train/test  avg_BillAmnt  \\\n",
       "0     -1     -1   2                         0.0           1   8557.666667   \n",
       "1      0     -1   2                         0.0           1   1107.333333   \n",
       "\n",
       "   avg_pay_amt  \n",
       "0  9574.666667  \n",
       "1  1263.500000  "
      ]
     },
     "execution_count": 311,
     "metadata": {},
     "output_type": "execute_result"
    }
   ],
   "source": [
    "df1.head(2)"
   ]
  },
  {
   "cell_type": "code",
   "execution_count": 312,
   "metadata": {},
   "outputs": [],
   "source": [
    "df_train=df1[df1['train/test']==1]\n",
    "df_test=df1[df1['train/test']==0]\n",
    "y_train=df_train['default_payment_next_month']\n",
    "x_train=df_train.drop(columns=['default_payment_next_month','train/test'],axis=1)\n",
    "x_test=df_test.drop(columns=['default_payment_next_month','train/test'],axis=1)\n",
    "\n",
    "from sklearn.preprocessing import StandardScaler\n",
    "ss=StandardScaler()\n",
    "x_trains=ss.fit_transform(x_train)\n",
    "y_trains=y_train.copy()\n",
    "x_tests=ss.fit(x_test)"
   ]
  },
  {
   "cell_type": "code",
   "execution_count": 314,
   "metadata": {},
   "outputs": [],
   "source": [
    "from sklearn.ensemble import RandomForestClassifier\n",
    "from sklearn.linear_model import LogisticRegression\n",
    "from sklearn.tree import DecisionTreeClassifier\n",
    "from sklearn.neighbors import KNeighborsClassifier\n",
    "from sklearn.naive_bayes import BernoulliNB\n",
    "from sklearn.ensemble import GradientBoostingClassifier\n",
    "\n",
    "lr=LogisticRegression()\n",
    "dt=DecisionTreeClassifier()\n",
    "rf=RandomForestClassifier()\n",
    "knn=KNeighborsClassifier()\n",
    "nb=BernoulliNB()\n",
    "gboost=GradientBoostingClassifier()\n",
    "#-----------------------------------------#\n",
    "models=[]\n",
    "models.append(('logistic_regression',lr))  \n",
    "models.append(('Naive Bayes',nb))                    # #we need to scale the data before applying \n",
    "    \n",
    "models.append(('knn',knn))                         #we need to scale the data.\n",
    "models.append(('decission tree',dt))\n",
    "models.append(('rf',rf))\n",
    "models.append(('gboost',gboost))"
   ]
  },
  {
   "cell_type": "code",
   "execution_count": 315,
   "metadata": {},
   "outputs": [
    {
     "name": "stdout",
     "output_type": "stream",
     "text": [
      "logistic_regression:0.728707 (0.000162)\n",
      "Naive Bayes:0.703046 (0.000254)\n",
      "knn:0.702083 (0.000160)\n",
      "decission tree:0.605372 (0.000092)\n",
      "rf:0.738858 (0.000208)\n",
      "gboost:0.781449 (0.000180)\n"
     ]
    },
    {
     "data": {
      "image/png": "[encoded data removed]",
      "text/plain": [
       "<Figure size 432x288 with 1 Axes>"
      ]
     },
     "metadata": {
      "needs_background": "light"
     },
     "output_type": "display_data"
    }
   ],
   "source": [
    "from sklearn.model_selection import KFold\n",
    "from sklearn.model_selection import cross_val_score\n",
    "results=[]\n",
    "names=[]\n",
    "import warnings\n",
    "for name,model in models:\n",
    "    warnings.simplefilter('ignore')\n",
    "    kfold=KFold(shuffle=True,n_splits=10,random_state=1)\n",
    "    cv_results=cross_val_score(model,x_trains,y_trains,cv=kfold,scoring='roc_auc') \n",
    "    results.append(cv_results)\n",
    "    names.append(name)\n",
    "    print(\"%s:%f (%f)\" % (name,np.mean(cv_results),np.var(cv_results,ddof=1)))  ##we have 10 auc scores. we are taking its average.\n",
    "    \n",
    "#boxplot algorithm comparison\n",
    "\n",
    "fig=plt.figure()\n",
    "fig.suptitle('algorithm comparison')\n",
    "ax=fig.add_subplot(111)\n",
    "plt.xlabel(names)\n",
    "plt.boxplot(results)\n",
    "plt.show()"
   ]
  },
  {
   "cell_type": "code",
   "execution_count": null,
   "metadata": {},
   "outputs": [],
   "source": []
  },
  {
   "cell_type": "markdown",
   "metadata": {},
   "source": [
    "# feature significance"
   ]
  },
  {
   "cell_type": "code",
   "execution_count": 317,
   "metadata": {},
   "outputs": [
    {
     "data": {
      "text/html": [
       "<div>\n",
       "<style scoped>\n",
       "    .dataframe tbody tr th:only-of-type {\n",
       "        vertical-align: middle;\n",
       "    }\n",
       "\n",
       "    .dataframe tbody tr th {\n",
       "        vertical-align: top;\n",
       "    }\n",
       "\n",
       "    .dataframe thead th {\n",
       "        text-align: right;\n",
       "    }\n",
       "</style>\n",
       "<table border=\"1\" class=\"dataframe\">\n",
       "  <thead>\n",
       "    <tr style=\"text-align: right;\">\n",
       "      <th></th>\n",
       "      <th>AGE</th>\n",
       "      <th>BILL_AMT1</th>\n",
       "      <th>BILL_AMT2</th>\n",
       "      <th>BILL_AMT3</th>\n",
       "      <th>BILL_AMT4</th>\n",
       "      <th>BILL_AMT5</th>\n",
       "      <th>BILL_AMT6</th>\n",
       "      <th>EDUCATION</th>\n",
       "      <th>ID</th>\n",
       "      <th>LIMIT_BAL</th>\n",
       "      <th>...</th>\n",
       "      <th>PAY_6</th>\n",
       "      <th>PAY_AMT1</th>\n",
       "      <th>PAY_AMT2</th>\n",
       "      <th>PAY_AMT3</th>\n",
       "      <th>PAY_AMT4</th>\n",
       "      <th>PAY_AMT5</th>\n",
       "      <th>PAY_AMT6</th>\n",
       "      <th>SEX</th>\n",
       "      <th>default_payment_next_month</th>\n",
       "      <th>train/test</th>\n",
       "    </tr>\n",
       "  </thead>\n",
       "  <tbody>\n",
       "    <tr>\n",
       "      <th>0</th>\n",
       "      <td>25</td>\n",
       "      <td>20952</td>\n",
       "      <td>12590</td>\n",
       "      <td>3479</td>\n",
       "      <td>3435</td>\n",
       "      <td>8870</td>\n",
       "      <td>2020</td>\n",
       "      <td>2</td>\n",
       "      <td>25150</td>\n",
       "      <td>360000</td>\n",
       "      <td>...</td>\n",
       "      <td>-1</td>\n",
       "      <td>12590</td>\n",
       "      <td>3479</td>\n",
       "      <td>3446</td>\n",
       "      <td>8870</td>\n",
       "      <td>2020</td>\n",
       "      <td>27043</td>\n",
       "      <td>2</td>\n",
       "      <td>0.0</td>\n",
       "      <td>1</td>\n",
       "    </tr>\n",
       "    <tr>\n",
       "      <th>1</th>\n",
       "      <td>46</td>\n",
       "      <td>456</td>\n",
       "      <td>0</td>\n",
       "      <td>0</td>\n",
       "      <td>2240</td>\n",
       "      <td>1681</td>\n",
       "      <td>2267</td>\n",
       "      <td>1</td>\n",
       "      <td>13470</td>\n",
       "      <td>240000</td>\n",
       "      <td>...</td>\n",
       "      <td>-1</td>\n",
       "      <td>0</td>\n",
       "      <td>0</td>\n",
       "      <td>2240</td>\n",
       "      <td>0</td>\n",
       "      <td>2267</td>\n",
       "      <td>3074</td>\n",
       "      <td>2</td>\n",
       "      <td>0.0</td>\n",
       "      <td>1</td>\n",
       "    </tr>\n",
       "    <tr>\n",
       "      <th>2</th>\n",
       "      <td>41</td>\n",
       "      <td>49846</td>\n",
       "      <td>53811</td>\n",
       "      <td>38717</td>\n",
       "      <td>35409</td>\n",
       "      <td>35036</td>\n",
       "      <td>35939</td>\n",
       "      <td>2</td>\n",
       "      <td>3092</td>\n",
       "      <td>320000</td>\n",
       "      <td>...</td>\n",
       "      <td>0</td>\n",
       "      <td>5000</td>\n",
       "      <td>2000</td>\n",
       "      <td>2000</td>\n",
       "      <td>3000</td>\n",
       "      <td>3000</td>\n",
       "      <td>1500</td>\n",
       "      <td>2</td>\n",
       "      <td>0.0</td>\n",
       "      <td>1</td>\n",
       "    </tr>\n",
       "    <tr>\n",
       "      <th>3</th>\n",
       "      <td>24</td>\n",
       "      <td>2675</td>\n",
       "      <td>0</td>\n",
       "      <td>0</td>\n",
       "      <td>0</td>\n",
       "      <td>0</td>\n",
       "      <td>0</td>\n",
       "      <td>2</td>\n",
       "      <td>13973</td>\n",
       "      <td>50000</td>\n",
       "      <td>...</td>\n",
       "      <td>-1</td>\n",
       "      <td>0</td>\n",
       "      <td>0</td>\n",
       "      <td>0</td>\n",
       "      <td>0</td>\n",
       "      <td>0</td>\n",
       "      <td>0</td>\n",
       "      <td>2</td>\n",
       "      <td>1.0</td>\n",
       "      <td>1</td>\n",
       "    </tr>\n",
       "    <tr>\n",
       "      <th>4</th>\n",
       "      <td>52</td>\n",
       "      <td>35861</td>\n",
       "      <td>18521</td>\n",
       "      <td>19385</td>\n",
       "      <td>20561</td>\n",
       "      <td>21261</td>\n",
       "      <td>21457</td>\n",
       "      <td>3</td>\n",
       "      <td>10567</td>\n",
       "      <td>80000</td>\n",
       "      <td>...</td>\n",
       "      <td>0</td>\n",
       "      <td>1500</td>\n",
       "      <td>1500</td>\n",
       "      <td>1500</td>\n",
       "      <td>1028</td>\n",
       "      <td>876</td>\n",
       "      <td>1449</td>\n",
       "      <td>1</td>\n",
       "      <td>0.0</td>\n",
       "      <td>1</td>\n",
       "    </tr>\n",
       "  </tbody>\n",
       "</table>\n",
       "<p>5 rows × 26 columns</p>\n",
       "</div>"
      ],
      "text/plain": [
       "   AGE  BILL_AMT1  BILL_AMT2  BILL_AMT3  BILL_AMT4  BILL_AMT5  BILL_AMT6  \\\n",
       "0   25      20952      12590       3479       3435       8870       2020   \n",
       "1   46        456          0          0       2240       1681       2267   \n",
       "2   41      49846      53811      38717      35409      35036      35939   \n",
       "3   24       2675          0          0          0          0          0   \n",
       "4   52      35861      18521      19385      20561      21261      21457   \n",
       "\n",
       "  EDUCATION     ID  LIMIT_BAL  ... PAY_6  PAY_AMT1  PAY_AMT2  PAY_AMT3  \\\n",
       "0         2  25150     360000  ...    -1     12590      3479      3446   \n",
       "1         1  13470     240000  ...    -1         0         0      2240   \n",
       "2         2   3092     320000  ...     0      5000      2000      2000   \n",
       "3         2  13973      50000  ...    -1         0         0         0   \n",
       "4         3  10567      80000  ...     0      1500      1500      1500   \n",
       "\n",
       "   PAY_AMT4  PAY_AMT5  PAY_AMT6  SEX  default_payment_next_month  train/test  \n",
       "0      8870      2020     27043    2                         0.0           1  \n",
       "1         0      2267      3074    2                         0.0           1  \n",
       "2      3000      3000      1500    2                         0.0           1  \n",
       "3         0         0         0    2                         1.0           1  \n",
       "4      1028       876      1449    1                         0.0           1  \n",
       "\n",
       "[5 rows x 26 columns]"
      ]
     },
     "execution_count": 317,
     "metadata": {},
     "output_type": "execute_result"
    }
   ],
   "source": [
    "df.head()"
   ]
  },
  {
   "cell_type": "code",
   "execution_count": 320,
   "metadata": {},
   "outputs": [
    {
     "data": {
      "text/plain": [
       "Ttest_indResult(statistic=-0.9657506548444429, pvalue=0.334180087912997)"
      ]
     },
     "execution_count": 320,
     "metadata": {},
     "output_type": "execute_result"
    }
   ],
   "source": [
    "age_0=df[df['default_payment_next_month']==0]['AGE']\n",
    "age_1=df[df['default_payment_next_month']==1]['AGE']\n",
    "from scipy.stats import ttest_ind\n",
    "ttest_ind(age_0,age_1)"
   ]
  },
  {
   "cell_type": "code",
   "execution_count": null,
   "metadata": {},
   "outputs": [],
   "source": []
  },
  {
   "cell_type": "markdown",
   "metadata": {},
   "source": [
    "# improving model after removing age"
   ]
  },
  {
   "cell_type": "code",
   "execution_count": 324,
   "metadata": {},
   "outputs": [],
   "source": [
    "df1=df.copy()\n",
    "df1['avg_BillAmnt']=(df1['BILL_AMT1']+df1['BILL_AMT2']+df1['BILL_AMT3']+df1['BILL_AMT4']+df1['BILL_AMT5']+df1['BILL_AMT6'])/6\n",
    "df1=df1.drop(columns=['BILL_AMT1','BILL_AMT2','BILL_AMT3','BILL_AMT4','BILL_AMT5','BILL_AMT6','AGE'],axis=1)"
   ]
  },
  {
   "cell_type": "code",
   "execution_count": 329,
   "metadata": {},
   "outputs": [],
   "source": [
    "df_train=df1[df1['train/test']==1]\n",
    "df_test=df1[df1['train/test']==0]\n",
    "y_train=df_train['default_payment_next_month']\n",
    "x_train=df_train.drop(columns=['default_payment_next_month','train/test'],axis=1)\n",
    "x_test=df_test.drop(columns=['default_payment_next_month','train/test'],axis=1)\n",
    "\n",
    "from sklearn.preprocessing import StandardScaler\n",
    "ss=StandardScaler()\n",
    "x_trains=ss.fit_transform(x_train)\n",
    "y_trains=y_train.copy()\n",
    "x_tests=ss.fit(x_test)"
   ]
  },
  {
   "cell_type": "code",
   "execution_count": 330,
   "metadata": {},
   "outputs": [],
   "source": [
    "from sklearn.ensemble import RandomForestClassifier\n",
    "from sklearn.linear_model import LogisticRegression\n",
    "from sklearn.tree import DecisionTreeClassifier\n",
    "from sklearn.neighbors import KNeighborsClassifier\n",
    "from sklearn.naive_bayes import BernoulliNB\n",
    "from sklearn.ensemble import GradientBoostingClassifier\n",
    "\n",
    "lr=LogisticRegression()\n",
    "dt=DecisionTreeClassifier()\n",
    "rf=RandomForestClassifier()\n",
    "knn=KNeighborsClassifier()\n",
    "nb=BernoulliNB()\n",
    "gboost=GradientBoostingClassifier()\n",
    "#-----------------------------------------#\n",
    "models=[]\n",
    "models.append(('logistic_regression',lr))  \n",
    "models.append(('Naive Bayes',nb))                    # #we need to scale the data before applying \n",
    "    \n",
    "models.append(('knn',knn))                         #we need to scale the data.\n",
    "models.append(('decission tree',dt))\n",
    "models.append(('rf',rf))\n",
    "models.append(('gboost',gboost))"
   ]
  },
  {
   "cell_type": "code",
   "execution_count": 331,
   "metadata": {},
   "outputs": [
    {
     "name": "stdout",
     "output_type": "stream",
     "text": [
      "logistic_regression:0.728877 (0.000166)\n",
      "Naive Bayes:0.698537 (0.000233)\n",
      "knn:0.705039 (0.000267)\n",
      "decission tree:0.620361 (0.000046)\n",
      "rf:0.728649 (0.000181)\n",
      "gboost:0.784217 (0.000169)\n"
     ]
    },
    {
     "data": {
      "image/png": "[encoded data removed]",
      "text/plain": [
       "<Figure size 432x288 with 1 Axes>"
      ]
     },
     "metadata": {
      "needs_background": "light"
     },
     "output_type": "display_data"
    }
   ],
   "source": [
    "from sklearn.model_selection import KFold\n",
    "from sklearn.model_selection import cross_val_score\n",
    "results=[]\n",
    "names=[]\n",
    "import warnings\n",
    "for name,model in models:\n",
    "    warnings.simplefilter('ignore')\n",
    "    kfold=KFold(shuffle=True,n_splits=10,random_state=1)\n",
    "    cv_results=cross_val_score(model,x_trains,y_trains,cv=kfold,scoring='roc_auc') \n",
    "    results.append(cv_results)\n",
    "    names.append(name)\n",
    "    print(\"%s:%f (%f)\" % (name,np.mean(cv_results),np.var(cv_results,ddof=1)))  ##we have 10 auc scores. we are taking its average.\n",
    "    \n",
    "#boxplot algorithm comparison\n",
    "\n",
    "fig=plt.figure()\n",
    "fig.suptitle('algorithm comparison')\n",
    "ax=fig.add_subplot(111)\n",
    "plt.xlabel(names)\n",
    "plt.boxplot(results)\n",
    "plt.show()"
   ]
  },
  {
   "cell_type": "code",
   "execution_count": null,
   "metadata": {},
   "outputs": [],
   "source": []
  },
  {
   "cell_type": "code",
   "execution_count": 332,
   "metadata": {},
   "outputs": [],
   "source": [
    "auc_val=[]\n",
    "for val in range(1,100):\n",
    "    gboost=GradientBoostingClassifier(n_estimators=val)\n",
    "    result=cross_val_score(gboost,x_trains,y_trains,scoring='roc_auc',cv=5)\n",
    "    auc_val.append(np.mean(result))"
   ]
  },
  {
   "cell_type": "code",
   "execution_count": 333,
   "metadata": {},
   "outputs": [
    {
     "ename": "NameError",
     "evalue": "name 'n_estimator' is not defined",
     "output_type": "error",
     "traceback": [
      "\u001b[1;31m---------------------------------------------------------------------------\u001b[0m",
      "\u001b[1;31mNameError\u001b[0m                                 Traceback (most recent call last)",
      "\u001b[1;32m<ipython-input-333-4957867b267b>\u001b[0m in \u001b[0;36m<module>\u001b[1;34m\u001b[0m\n\u001b[0;32m      1\u001b[0m \u001b[0mplt\u001b[0m\u001b[1;33m.\u001b[0m\u001b[0mfigure\u001b[0m\u001b[1;33m(\u001b[0m\u001b[0mfigsize\u001b[0m\u001b[1;33m=\u001b[0m\u001b[1;33m(\u001b[0m\u001b[1;36m25\u001b[0m\u001b[1;33m,\u001b[0m\u001b[1;36m6\u001b[0m\u001b[1;33m)\u001b[0m\u001b[1;33m)\u001b[0m\u001b[1;33m\u001b[0m\u001b[1;33m\u001b[0m\u001b[0m\n\u001b[1;32m----> 2\u001b[1;33m \u001b[0msns\u001b[0m\u001b[1;33m.\u001b[0m\u001b[0mlineplot\u001b[0m\u001b[1;33m(\u001b[0m\u001b[0mx\u001b[0m\u001b[1;33m=\u001b[0m\u001b[0mn_estimator\u001b[0m\u001b[1;33m,\u001b[0m\u001b[0my\u001b[0m\u001b[1;33m=\u001b[0m\u001b[0mauc_val\u001b[0m\u001b[1;33m)\u001b[0m\u001b[1;33m\u001b[0m\u001b[1;33m\u001b[0m\u001b[0m\n\u001b[0m\u001b[0;32m      3\u001b[0m \u001b[0mplt\u001b[0m\u001b[1;33m.\u001b[0m\u001b[0mshow\u001b[0m\u001b[1;33m(\u001b[0m\u001b[1;33m)\u001b[0m\u001b[1;33m\u001b[0m\u001b[1;33m\u001b[0m\u001b[0m\n",
      "\u001b[1;31mNameError\u001b[0m: name 'n_estimator' is not defined"
     ]
    },
    {
     "data": {
      "text/plain": [
       "<Figure size 1800x432 with 0 Axes>"
      ]
     },
     "metadata": {},
     "output_type": "display_data"
    }
   ],
   "source": [
    "plt.figure(figsize=(25,6))\n",
    "sns.lineplot(x=n_estimator,y=auc_val)\n",
    "plt.show()"
   ]
  },
  {
   "cell_type": "code",
   "execution_count": 337,
   "metadata": {},
   "outputs": [
    {
     "name": "stdout",
     "output_type": "stream",
     "text": [
      "89\n"
     ]
    }
   ],
   "source": [
    "print(np.argmax(auc_val))\n",
    "gboost=GradientBoostingClassifier(n_estimators=89)"
   ]
  },
  {
   "cell_type": "code",
   "execution_count": 338,
   "metadata": {},
   "outputs": [
    {
     "data": {
      "text/plain": [
       "GradientBoostingClassifier(criterion='friedman_mse', init=None,\n",
       "                           learning_rate=0.1, loss='deviance', max_depth=3,\n",
       "                           max_features=None, max_leaf_nodes=None,\n",
       "                           min_impurity_decrease=0.0, min_impurity_split=None,\n",
       "                           min_samples_leaf=1, min_samples_split=2,\n",
       "                           min_weight_fraction_leaf=0.0, n_estimators=89,\n",
       "                           n_iter_no_change=None, presort='auto',\n",
       "                           random_state=None, subsample=1.0, tol=0.0001,\n",
       "                           validation_fraction=0.1, verbose=0,\n",
       "                           warm_start=False)"
      ]
     },
     "execution_count": 338,
     "metadata": {},
     "output_type": "execute_result"
    }
   ],
   "source": [
    "gboost.fit(x_trains,y_trains)"
   ]
  },
  {
   "cell_type": "code",
   "execution_count": 364,
   "metadata": {},
   "outputs": [
    {
     "ename": "TypeError",
     "evalue": "'numpy.float64' object is not callable",
     "output_type": "error",
     "traceback": [
      "\u001b[1;31m---------------------------------------------------------------------------\u001b[0m",
      "\u001b[1;31mTypeError\u001b[0m                                 Traceback (most recent call last)",
      "\u001b[1;32m<ipython-input-364-615a2af1c33f>\u001b[0m in \u001b[0;36m<module>\u001b[1;34m\u001b[0m\n\u001b[0;32m      1\u001b[0m \u001b[0mx_trains_df\u001b[0m\u001b[1;33m=\u001b[0m\u001b[0mpd\u001b[0m\u001b[1;33m.\u001b[0m\u001b[0mDataFrame\u001b[0m\u001b[1;33m(\u001b[0m\u001b[0mx_trains\u001b[0m\u001b[1;33m,\u001b[0m\u001b[0mcolumns\u001b[0m\u001b[1;33m=\u001b[0m\u001b[0mx_train\u001b[0m\u001b[1;33m.\u001b[0m\u001b[0mcolumns\u001b[0m\u001b[1;33m)\u001b[0m\u001b[1;33m\u001b[0m\u001b[1;33m\u001b[0m\u001b[0m\n\u001b[0;32m      2\u001b[0m \u001b[0my_trains_pred\u001b[0m\u001b[1;33m=\u001b[0m\u001b[0mgboost\u001b[0m\u001b[1;33m.\u001b[0m\u001b[0mpredict\u001b[0m\u001b[1;33m(\u001b[0m\u001b[0mx_trains_df\u001b[0m\u001b[1;33m)\u001b[0m\u001b[1;33m\u001b[0m\u001b[1;33m\u001b[0m\u001b[0m\n\u001b[1;32m----> 3\u001b[1;33m \u001b[0mroc_auc_score\u001b[0m\u001b[1;33m(\u001b[0m\u001b[0my_trains\u001b[0m\u001b[1;33m,\u001b[0m\u001b[0my_trains_pred\u001b[0m\u001b[1;33m)\u001b[0m\u001b[1;33m\u001b[0m\u001b[1;33m\u001b[0m\u001b[0m\n\u001b[0m",
      "\u001b[1;31mTypeError\u001b[0m: 'numpy.float64' object is not callable"
     ]
    }
   ],
   "source": [
    "x_trains_df=pd.DataFrame(x_trains,columns=x_train.columns)\n",
    "y_trains_pred=gboost.predict(x_trains_df)\n",
    "roc_auc_score(y_trains,y_trains_pred)"
   ]
  },
  {
   "cell_type": "code",
   "execution_count": 377,
   "metadata": {},
   "outputs": [],
   "source": [
    "x_tests=ss.transform(x_test)\n",
    "y_pred=gboost.predict(x_tests)"
   ]
  },
  {
   "cell_type": "code",
   "execution_count": 378,
   "metadata": {},
   "outputs": [
    {
     "data": {
      "text/html": [
       "<div>\n",
       "<style scoped>\n",
       "    .dataframe tbody tr th:only-of-type {\n",
       "        vertical-align: middle;\n",
       "    }\n",
       "\n",
       "    .dataframe tbody tr th {\n",
       "        vertical-align: top;\n",
       "    }\n",
       "\n",
       "    .dataframe thead th {\n",
       "        text-align: right;\n",
       "    }\n",
       "</style>\n",
       "<table border=\"1\" class=\"dataframe\">\n",
       "  <thead>\n",
       "    <tr style=\"text-align: right;\">\n",
       "      <th></th>\n",
       "      <th>ID</th>\n",
       "      <th>default_payment_next_month</th>\n",
       "    </tr>\n",
       "  </thead>\n",
       "  <tbody>\n",
       "    <tr>\n",
       "      <th>0</th>\n",
       "      <td>10178</td>\n",
       "      <td>0.0</td>\n",
       "    </tr>\n",
       "    <tr>\n",
       "      <th>1</th>\n",
       "      <td>5304</td>\n",
       "      <td>0.0</td>\n",
       "    </tr>\n",
       "    <tr>\n",
       "      <th>2</th>\n",
       "      <td>5187</td>\n",
       "      <td>0.0</td>\n",
       "    </tr>\n",
       "    <tr>\n",
       "      <th>3</th>\n",
       "      <td>14495</td>\n",
       "      <td>0.0</td>\n",
       "    </tr>\n",
       "    <tr>\n",
       "      <th>4</th>\n",
       "      <td>20444</td>\n",
       "      <td>0.0</td>\n",
       "    </tr>\n",
       "  </tbody>\n",
       "</table>\n",
       "</div>"
      ],
      "text/plain": [
       "      ID  default_payment_next_month\n",
       "0  10178                         0.0\n",
       "1   5304                         0.0\n",
       "2   5187                         0.0\n",
       "3  14495                         0.0\n",
       "4  20444                         0.0"
      ]
     },
     "execution_count": 378,
     "metadata": {},
     "output_type": "execute_result"
    }
   ],
   "source": [
    "r1=x_test['ID']\n",
    "r2=pd.DataFrame(y_pred,columns=['default_payment_next_month'])\n",
    "result=pd.concat([r1,r2],axis=1)\n",
    "result.head()"
   ]
  },
  {
   "cell_type": "code",
   "execution_count": 380,
   "metadata": {},
   "outputs": [],
   "source": [
    "result.to_csv('C:/Users/SAJAN P MENON/Desktop/week-9-case_study/analytics_vidhya_loan_defaulter/upload_result1.csv')"
   ]
  },
  {
   "cell_type": "markdown",
   "metadata": {},
   "source": [
    "# -----------------------------------------------------------------------------------------------------------------------------------------------------------------------------------"
   ]
  },
  {
   "cell_type": "markdown",
   "metadata": {},
   "source": [
    "# important features only"
   ]
  },
  {
   "cell_type": "code",
   "execution_count": 388,
   "metadata": {},
   "outputs": [
    {
     "data": {
      "text/html": [
       "<div>\n",
       "<style scoped>\n",
       "    .dataframe tbody tr th:only-of-type {\n",
       "        vertical-align: middle;\n",
       "    }\n",
       "\n",
       "    .dataframe tbody tr th {\n",
       "        vertical-align: top;\n",
       "    }\n",
       "\n",
       "    .dataframe thead th {\n",
       "        text-align: right;\n",
       "    }\n",
       "</style>\n",
       "<table border=\"1\" class=\"dataframe\">\n",
       "  <thead>\n",
       "    <tr style=\"text-align: right;\">\n",
       "      <th></th>\n",
       "      <th>sig_value</th>\n",
       "    </tr>\n",
       "  </thead>\n",
       "  <tbody>\n",
       "    <tr>\n",
       "      <th>EDUCATION</th>\n",
       "      <td>0.009757</td>\n",
       "    </tr>\n",
       "    <tr>\n",
       "      <th>ID</th>\n",
       "      <td>0.015192</td>\n",
       "    </tr>\n",
       "    <tr>\n",
       "      <th>LIMIT_BAL</th>\n",
       "      <td>0.032820</td>\n",
       "    </tr>\n",
       "    <tr>\n",
       "      <th>MARRIAGE</th>\n",
       "      <td>0.002938</td>\n",
       "    </tr>\n",
       "    <tr>\n",
       "      <th>PAY_0</th>\n",
       "      <td>0.616562</td>\n",
       "    </tr>\n",
       "    <tr>\n",
       "      <th>PAY_2</th>\n",
       "      <td>0.081948</td>\n",
       "    </tr>\n",
       "    <tr>\n",
       "      <th>PAY_3</th>\n",
       "      <td>0.035617</td>\n",
       "    </tr>\n",
       "    <tr>\n",
       "      <th>PAY_4</th>\n",
       "      <td>0.013214</td>\n",
       "    </tr>\n",
       "    <tr>\n",
       "      <th>PAY_5</th>\n",
       "      <td>0.028070</td>\n",
       "    </tr>\n",
       "    <tr>\n",
       "      <th>PAY_6</th>\n",
       "      <td>0.017696</td>\n",
       "    </tr>\n",
       "    <tr>\n",
       "      <th>PAY_AMT1</th>\n",
       "      <td>0.020775</td>\n",
       "    </tr>\n",
       "    <tr>\n",
       "      <th>PAY_AMT2</th>\n",
       "      <td>0.017620</td>\n",
       "    </tr>\n",
       "    <tr>\n",
       "      <th>PAY_AMT3</th>\n",
       "      <td>0.022320</td>\n",
       "    </tr>\n",
       "    <tr>\n",
       "      <th>PAY_AMT4</th>\n",
       "      <td>0.010368</td>\n",
       "    </tr>\n",
       "    <tr>\n",
       "      <th>PAY_AMT5</th>\n",
       "      <td>0.009923</td>\n",
       "    </tr>\n",
       "    <tr>\n",
       "      <th>PAY_AMT6</th>\n",
       "      <td>0.011416</td>\n",
       "    </tr>\n",
       "    <tr>\n",
       "      <th>SEX</th>\n",
       "      <td>0.000658</td>\n",
       "    </tr>\n",
       "    <tr>\n",
       "      <th>avg_BillAmnt</th>\n",
       "      <td>0.053106</td>\n",
       "    </tr>\n",
       "  </tbody>\n",
       "</table>\n",
       "</div>"
      ],
      "text/plain": [
       "              sig_value\n",
       "EDUCATION      0.009757\n",
       "ID             0.015192\n",
       "LIMIT_BAL      0.032820\n",
       "MARRIAGE       0.002938\n",
       "PAY_0          0.616562\n",
       "PAY_2          0.081948\n",
       "PAY_3          0.035617\n",
       "PAY_4          0.013214\n",
       "PAY_5          0.028070\n",
       "PAY_6          0.017696\n",
       "PAY_AMT1       0.020775\n",
       "PAY_AMT2       0.017620\n",
       "PAY_AMT3       0.022320\n",
       "PAY_AMT4       0.010368\n",
       "PAY_AMT5       0.009923\n",
       "PAY_AMT6       0.011416\n",
       "SEX            0.000658\n",
       "avg_BillAmnt   0.053106"
      ]
     },
     "execution_count": 388,
     "metadata": {},
     "output_type": "execute_result"
    }
   ],
   "source": [
    "imp=pd.DataFrame(gboost.feature_importances_,columns=['sig_value'],index=x_train.columns)\n",
    "imp"
   ]
  },
  {
   "cell_type": "code",
   "execution_count": 383,
   "metadata": {},
   "outputs": [
    {
     "data": {
      "text/plain": [
       "18"
      ]
     },
     "execution_count": 383,
     "metadata": {},
     "output_type": "execute_result"
    }
   ],
   "source": [
    "len(x_train.columns)"
   ]
  },
  {
   "cell_type": "code",
   "execution_count": null,
   "metadata": {},
   "outputs": [],
   "source": []
  },
  {
   "cell_type": "markdown",
   "metadata": {},
   "source": [
    "# improving model after removing age and sex"
   ]
  },
  {
   "cell_type": "code",
   "execution_count": 389,
   "metadata": {},
   "outputs": [],
   "source": [
    "df1=df.copy()\n",
    "df1['avg_BillAmnt']=(df1['BILL_AMT1']+df1['BILL_AMT2']+df1['BILL_AMT3']+df1['BILL_AMT4']+df1['BILL_AMT5']+df1['BILL_AMT6'])/6\n",
    "df1=df1.drop(columns=['BILL_AMT1','BILL_AMT2','BILL_AMT3','BILL_AMT4','BILL_AMT5','BILL_AMT6','AGE','SEX'],axis=1)"
   ]
  },
  {
   "cell_type": "code",
   "execution_count": 390,
   "metadata": {},
   "outputs": [],
   "source": [
    "df_train=df1[df1['train/test']==1]\n",
    "df_test=df1[df1['train/test']==0]\n",
    "y_train=df_train['default_payment_next_month']\n",
    "x_train=df_train.drop(columns=['default_payment_next_month','train/test'],axis=1)\n",
    "x_test=df_test.drop(columns=['default_payment_next_month','train/test'],axis=1)\n",
    "\n",
    "from sklearn.preprocessing import StandardScaler\n",
    "ss=StandardScaler()\n",
    "x_trains=ss.fit_transform(x_train)\n",
    "y_trains=y_train.copy()\n",
    "x_tests=ss.fit(x_test)"
   ]
  },
  {
   "cell_type": "code",
   "execution_count": 391,
   "metadata": {},
   "outputs": [],
   "source": [
    "from sklearn.ensemble import RandomForestClassifier\n",
    "from sklearn.linear_model import LogisticRegression\n",
    "from sklearn.tree import DecisionTreeClassifier\n",
    "from sklearn.neighbors import KNeighborsClassifier\n",
    "from sklearn.naive_bayes import BernoulliNB\n",
    "from sklearn.ensemble import GradientBoostingClassifier\n",
    "\n",
    "lr=LogisticRegression()\n",
    "dt=DecisionTreeClassifier()\n",
    "rf=RandomForestClassifier()\n",
    "knn=KNeighborsClassifier()\n",
    "nb=BernoulliNB()\n",
    "gboost=GradientBoostingClassifier()\n",
    "#-----------------------------------------#\n",
    "models=[]\n",
    "models.append(('logistic_regression',lr))  \n",
    "models.append(('Naive Bayes',nb))                    # #we need to scale the data before applying \n",
    "    \n",
    "models.append(('knn',knn))                         #we need to scale the data.\n",
    "models.append(('decission tree',dt))\n",
    "models.append(('rf',rf))\n",
    "models.append(('gboost',gboost))"
   ]
  },
  {
   "cell_type": "code",
   "execution_count": 392,
   "metadata": {},
   "outputs": [
    {
     "name": "stdout",
     "output_type": "stream",
     "text": [
      "logistic_regression:0.728271 (0.000160)\n",
      "Naive Bayes:0.697973 (0.000237)\n",
      "knn:0.707469 (0.000279)\n",
      "decission tree:0.615704 (0.000218)\n",
      "rf:0.731859 (0.000176)\n",
      "gboost:0.783437 (0.000167)\n"
     ]
    },
    {
     "data": {
      "image/png": "[encoded data removed]",
      "text/plain": [
       "<Figure size 432x288 with 1 Axes>"
      ]
     },
     "metadata": {
      "needs_background": "light"
     },
     "output_type": "display_data"
    }
   ],
   "source": [
    "from sklearn.model_selection import KFold\n",
    "from sklearn.model_selection import cross_val_score\n",
    "results=[]\n",
    "names=[]\n",
    "import warnings\n",
    "for name,model in models:\n",
    "    warnings.simplefilter('ignore')\n",
    "    kfold=KFold(shuffle=True,n_splits=10,random_state=1)\n",
    "    cv_results=cross_val_score(model,x_trains,y_trains,cv=kfold,scoring='roc_auc') \n",
    "    results.append(cv_results)\n",
    "    names.append(name)\n",
    "    print(\"%s:%f (%f)\" % (name,np.mean(cv_results),np.var(cv_results,ddof=1)))  ##we have 10 auc scores. we are taking its average.\n",
    "    \n",
    "#boxplot algorithm comparison\n",
    "\n",
    "fig=plt.figure()\n",
    "fig.suptitle('algorithm comparison')\n",
    "ax=fig.add_subplot(111)\n",
    "plt.xlabel(names)\n",
    "plt.boxplot(results)\n",
    "plt.show()"
   ]
  },
  {
   "cell_type": "code",
   "execution_count": 394,
   "metadata": {},
   "outputs": [
    {
     "data": {
      "text/plain": [
       "GradientBoostingClassifier(criterion='friedman_mse', init=None,\n",
       "                           learning_rate=0.1, loss='deviance', max_depth=3,\n",
       "                           max_features=None, max_leaf_nodes=None,\n",
       "                           min_impurity_decrease=0.0, min_impurity_split=None,\n",
       "                           min_samples_leaf=1, min_samples_split=2,\n",
       "                           min_weight_fraction_leaf=0.0, n_estimators=89,\n",
       "                           n_iter_no_change=None, presort='auto',\n",
       "                           random_state=None, subsample=1.0, tol=0.0001,\n",
       "                           validation_fraction=0.1, verbose=0,\n",
       "                           warm_start=False)"
      ]
     },
     "execution_count": 394,
     "metadata": {},
     "output_type": "execute_result"
    }
   ],
   "source": [
    "gboost=GradientBoostingClassifier(n_estimators=89)\n",
    "gboost.fit(x_trains,y_trains)"
   ]
  },
  {
   "cell_type": "code",
   "execution_count": 395,
   "metadata": {},
   "outputs": [],
   "source": [
    "x_tests=ss.transform(x_test)\n",
    "y_pred=gboost.predict(x_tests)"
   ]
  },
  {
   "cell_type": "code",
   "execution_count": 396,
   "metadata": {},
   "outputs": [
    {
     "data": {
      "text/html": [
       "<div>\n",
       "<style scoped>\n",
       "    .dataframe tbody tr th:only-of-type {\n",
       "        vertical-align: middle;\n",
       "    }\n",
       "\n",
       "    .dataframe tbody tr th {\n",
       "        vertical-align: top;\n",
       "    }\n",
       "\n",
       "    .dataframe thead th {\n",
       "        text-align: right;\n",
       "    }\n",
       "</style>\n",
       "<table border=\"1\" class=\"dataframe\">\n",
       "  <thead>\n",
       "    <tr style=\"text-align: right;\">\n",
       "      <th></th>\n",
       "      <th>ID</th>\n",
       "      <th>default_payment_next_month</th>\n",
       "    </tr>\n",
       "  </thead>\n",
       "  <tbody>\n",
       "    <tr>\n",
       "      <th>0</th>\n",
       "      <td>10178</td>\n",
       "      <td>0.0</td>\n",
       "    </tr>\n",
       "    <tr>\n",
       "      <th>1</th>\n",
       "      <td>5304</td>\n",
       "      <td>0.0</td>\n",
       "    </tr>\n",
       "    <tr>\n",
       "      <th>2</th>\n",
       "      <td>5187</td>\n",
       "      <td>0.0</td>\n",
       "    </tr>\n",
       "    <tr>\n",
       "      <th>3</th>\n",
       "      <td>14495</td>\n",
       "      <td>0.0</td>\n",
       "    </tr>\n",
       "    <tr>\n",
       "      <th>4</th>\n",
       "      <td>20444</td>\n",
       "      <td>0.0</td>\n",
       "    </tr>\n",
       "  </tbody>\n",
       "</table>\n",
       "</div>"
      ],
      "text/plain": [
       "      ID  default_payment_next_month\n",
       "0  10178                         0.0\n",
       "1   5304                         0.0\n",
       "2   5187                         0.0\n",
       "3  14495                         0.0\n",
       "4  20444                         0.0"
      ]
     },
     "execution_count": 396,
     "metadata": {},
     "output_type": "execute_result"
    }
   ],
   "source": [
    "r1=x_test['ID']\n",
    "r2=pd.DataFrame(y_pred,columns=['default_payment_next_month'])\n",
    "result=pd.concat([r1,r2],axis=1)\n",
    "result.head()"
   ]
  },
  {
   "cell_type": "code",
   "execution_count": 397,
   "metadata": {},
   "outputs": [],
   "source": [
    "result.to_csv('C:/Users/SAJAN P MENON/Desktop/week-9-case_study/analytics_vidhya_loan_defaulter/upload_result2.csv')"
   ]
  },
  {
   "cell_type": "code",
   "execution_count": null,
   "metadata": {},
   "outputs": [],
   "source": []
  },
  {
   "cell_type": "markdown",
   "metadata": {},
   "source": [
    "# feature engineering ( average ofn pay_0 + bill amount)"
   ]
  },
  {
   "cell_type": "code",
   "execution_count": 398,
   "metadata": {},
   "outputs": [
    {
     "data": {
      "text/html": [
       "<div>\n",
       "<style scoped>\n",
       "    .dataframe tbody tr th:only-of-type {\n",
       "        vertical-align: middle;\n",
       "    }\n",
       "\n",
       "    .dataframe tbody tr th {\n",
       "        vertical-align: top;\n",
       "    }\n",
       "\n",
       "    .dataframe thead th {\n",
       "        text-align: right;\n",
       "    }\n",
       "</style>\n",
       "<table border=\"1\" class=\"dataframe\">\n",
       "  <thead>\n",
       "    <tr style=\"text-align: right;\">\n",
       "      <th></th>\n",
       "      <th>AGE</th>\n",
       "      <th>BILL_AMT1</th>\n",
       "      <th>BILL_AMT2</th>\n",
       "      <th>BILL_AMT3</th>\n",
       "      <th>BILL_AMT4</th>\n",
       "      <th>BILL_AMT5</th>\n",
       "      <th>BILL_AMT6</th>\n",
       "      <th>EDUCATION</th>\n",
       "      <th>ID</th>\n",
       "      <th>LIMIT_BAL</th>\n",
       "      <th>...</th>\n",
       "      <th>PAY_6</th>\n",
       "      <th>PAY_AMT1</th>\n",
       "      <th>PAY_AMT2</th>\n",
       "      <th>PAY_AMT3</th>\n",
       "      <th>PAY_AMT4</th>\n",
       "      <th>PAY_AMT5</th>\n",
       "      <th>PAY_AMT6</th>\n",
       "      <th>SEX</th>\n",
       "      <th>default_payment_next_month</th>\n",
       "      <th>train/test</th>\n",
       "    </tr>\n",
       "  </thead>\n",
       "  <tbody>\n",
       "    <tr>\n",
       "      <th>0</th>\n",
       "      <td>25</td>\n",
       "      <td>20952</td>\n",
       "      <td>12590</td>\n",
       "      <td>3479</td>\n",
       "      <td>3435</td>\n",
       "      <td>8870</td>\n",
       "      <td>2020</td>\n",
       "      <td>2</td>\n",
       "      <td>25150</td>\n",
       "      <td>360000</td>\n",
       "      <td>...</td>\n",
       "      <td>-1</td>\n",
       "      <td>12590</td>\n",
       "      <td>3479</td>\n",
       "      <td>3446</td>\n",
       "      <td>8870</td>\n",
       "      <td>2020</td>\n",
       "      <td>27043</td>\n",
       "      <td>2</td>\n",
       "      <td>0.0</td>\n",
       "      <td>1</td>\n",
       "    </tr>\n",
       "    <tr>\n",
       "      <th>1</th>\n",
       "      <td>46</td>\n",
       "      <td>456</td>\n",
       "      <td>0</td>\n",
       "      <td>0</td>\n",
       "      <td>2240</td>\n",
       "      <td>1681</td>\n",
       "      <td>2267</td>\n",
       "      <td>1</td>\n",
       "      <td>13470</td>\n",
       "      <td>240000</td>\n",
       "      <td>...</td>\n",
       "      <td>-1</td>\n",
       "      <td>0</td>\n",
       "      <td>0</td>\n",
       "      <td>2240</td>\n",
       "      <td>0</td>\n",
       "      <td>2267</td>\n",
       "      <td>3074</td>\n",
       "      <td>2</td>\n",
       "      <td>0.0</td>\n",
       "      <td>1</td>\n",
       "    </tr>\n",
       "    <tr>\n",
       "      <th>2</th>\n",
       "      <td>41</td>\n",
       "      <td>49846</td>\n",
       "      <td>53811</td>\n",
       "      <td>38717</td>\n",
       "      <td>35409</td>\n",
       "      <td>35036</td>\n",
       "      <td>35939</td>\n",
       "      <td>2</td>\n",
       "      <td>3092</td>\n",
       "      <td>320000</td>\n",
       "      <td>...</td>\n",
       "      <td>0</td>\n",
       "      <td>5000</td>\n",
       "      <td>2000</td>\n",
       "      <td>2000</td>\n",
       "      <td>3000</td>\n",
       "      <td>3000</td>\n",
       "      <td>1500</td>\n",
       "      <td>2</td>\n",
       "      <td>0.0</td>\n",
       "      <td>1</td>\n",
       "    </tr>\n",
       "    <tr>\n",
       "      <th>3</th>\n",
       "      <td>24</td>\n",
       "      <td>2675</td>\n",
       "      <td>0</td>\n",
       "      <td>0</td>\n",
       "      <td>0</td>\n",
       "      <td>0</td>\n",
       "      <td>0</td>\n",
       "      <td>2</td>\n",
       "      <td>13973</td>\n",
       "      <td>50000</td>\n",
       "      <td>...</td>\n",
       "      <td>-1</td>\n",
       "      <td>0</td>\n",
       "      <td>0</td>\n",
       "      <td>0</td>\n",
       "      <td>0</td>\n",
       "      <td>0</td>\n",
       "      <td>0</td>\n",
       "      <td>2</td>\n",
       "      <td>1.0</td>\n",
       "      <td>1</td>\n",
       "    </tr>\n",
       "    <tr>\n",
       "      <th>4</th>\n",
       "      <td>52</td>\n",
       "      <td>35861</td>\n",
       "      <td>18521</td>\n",
       "      <td>19385</td>\n",
       "      <td>20561</td>\n",
       "      <td>21261</td>\n",
       "      <td>21457</td>\n",
       "      <td>3</td>\n",
       "      <td>10567</td>\n",
       "      <td>80000</td>\n",
       "      <td>...</td>\n",
       "      <td>0</td>\n",
       "      <td>1500</td>\n",
       "      <td>1500</td>\n",
       "      <td>1500</td>\n",
       "      <td>1028</td>\n",
       "      <td>876</td>\n",
       "      <td>1449</td>\n",
       "      <td>1</td>\n",
       "      <td>0.0</td>\n",
       "      <td>1</td>\n",
       "    </tr>\n",
       "  </tbody>\n",
       "</table>\n",
       "<p>5 rows × 26 columns</p>\n",
       "</div>"
      ],
      "text/plain": [
       "   AGE  BILL_AMT1  BILL_AMT2  BILL_AMT3  BILL_AMT4  BILL_AMT5  BILL_AMT6  \\\n",
       "0   25      20952      12590       3479       3435       8870       2020   \n",
       "1   46        456          0          0       2240       1681       2267   \n",
       "2   41      49846      53811      38717      35409      35036      35939   \n",
       "3   24       2675          0          0          0          0          0   \n",
       "4   52      35861      18521      19385      20561      21261      21457   \n",
       "\n",
       "  EDUCATION     ID  LIMIT_BAL  ... PAY_6  PAY_AMT1  PAY_AMT2  PAY_AMT3  \\\n",
       "0         2  25150     360000  ...    -1     12590      3479      3446   \n",
       "1         1  13470     240000  ...    -1         0         0      2240   \n",
       "2         2   3092     320000  ...     0      5000      2000      2000   \n",
       "3         2  13973      50000  ...    -1         0         0         0   \n",
       "4         3  10567      80000  ...     0      1500      1500      1500   \n",
       "\n",
       "   PAY_AMT4  PAY_AMT5  PAY_AMT6  SEX  default_payment_next_month  train/test  \n",
       "0      8870      2020     27043    2                         0.0           1  \n",
       "1         0      2267      3074    2                         0.0           1  \n",
       "2      3000      3000      1500    2                         0.0           1  \n",
       "3         0         0         0    2                         1.0           1  \n",
       "4      1028       876      1449    1                         0.0           1  \n",
       "\n",
       "[5 rows x 26 columns]"
      ]
     },
     "execution_count": 398,
     "metadata": {},
     "output_type": "execute_result"
    }
   ],
   "source": [
    "df.head()"
   ]
  },
  {
   "cell_type": "code",
   "execution_count": 401,
   "metadata": {},
   "outputs": [],
   "source": [
    "df1=df.copy()\n",
    "df1['avg_BillAmnt']=(df1['BILL_AMT1']+df1['BILL_AMT2']+df1['BILL_AMT3']+df1['BILL_AMT4']+df1['BILL_AMT5']+df1['BILL_AMT6'])/6\n",
    "\n",
    "df1['avg_pay']=(df1['PAY_0']+df1['PAY_2']+df1['PAY_3']+df1['PAY_4']+df1['PAY_5']+df1['PAY_6'])/6\n",
    "df1=df1.drop(columns=['BILL_AMT1','BILL_AMT2','BILL_AMT3','BILL_AMT4','BILL_AMT5','BILL_AMT6','PAY_0','PAY_2','PAY_3','PAY_4','PAY_5','PAY_6'],axis=1)"
   ]
  },
  {
   "cell_type": "code",
   "execution_count": 402,
   "metadata": {},
   "outputs": [
    {
     "name": "stdout",
     "output_type": "stream",
     "text": [
      "<class 'pandas.core.frame.DataFrame'>\n",
      "Int64Index: 30000 entries, 0 to 8999\n",
      "Data columns (total 16 columns):\n",
      "AGE                           30000 non-null int64\n",
      "EDUCATION                     30000 non-null object\n",
      "ID                            30000 non-null int64\n",
      "LIMIT_BAL                     30000 non-null int64\n",
      "MARRIAGE                      30000 non-null object\n",
      "PAY_AMT1                      30000 non-null int64\n",
      "PAY_AMT2                      30000 non-null int64\n",
      "PAY_AMT3                      30000 non-null int64\n",
      "PAY_AMT4                      30000 non-null int64\n",
      "PAY_AMT5                      30000 non-null int64\n",
      "PAY_AMT6                      30000 non-null int64\n",
      "SEX                           30000 non-null object\n",
      "default_payment_next_month    21000 non-null float64\n",
      "train/test                    30000 non-null int64\n",
      "avg_BillAmnt                  30000 non-null float64\n",
      "avg_pay                       30000 non-null float64\n",
      "dtypes: float64(3), int64(10), object(3)\n",
      "memory usage: 3.9+ MB\n"
     ]
    }
   ],
   "source": [
    "df1.info()"
   ]
  },
  {
   "cell_type": "code",
   "execution_count": 403,
   "metadata": {},
   "outputs": [],
   "source": [
    "df_train=df1[df1['train/test']==1]\n",
    "df_test=df1[df1['train/test']==0]\n",
    "y_train=df_train['default_payment_next_month']\n",
    "x_train=df_train.drop(columns=['default_payment_next_month','train/test'],axis=1)\n",
    "x_test=df_test.drop(columns=['default_payment_next_month','train/test'],axis=1)\n",
    "\n",
    "from sklearn.preprocessing import StandardScaler\n",
    "ss=StandardScaler()\n",
    "x_trains=ss.fit_transform(x_train)\n",
    "y_trains=y_train.copy()\n",
    "x_tests=ss.fit(x_test)"
   ]
  },
  {
   "cell_type": "code",
   "execution_count": 404,
   "metadata": {},
   "outputs": [],
   "source": [
    "from sklearn.ensemble import RandomForestClassifier\n",
    "from sklearn.linear_model import LogisticRegression\n",
    "from sklearn.tree import DecisionTreeClassifier\n",
    "from sklearn.neighbors import KNeighborsClassifier\n",
    "from sklearn.naive_bayes import BernoulliNB\n",
    "from sklearn.ensemble import GradientBoostingClassifier\n",
    "\n",
    "lr=LogisticRegression()\n",
    "dt=DecisionTreeClassifier()\n",
    "rf=RandomForestClassifier()\n",
    "knn=KNeighborsClassifier()\n",
    "nb=BernoulliNB()\n",
    "gboost=GradientBoostingClassifier()\n",
    "#-----------------------------------------#\n",
    "models=[]\n",
    "models.append(('logistic_regression',lr))  \n",
    "models.append(('Naive Bayes',nb))                    # #we need to scale the data before applying \n",
    "    \n",
    "models.append(('knn',knn))                         #we need to scale the data.\n",
    "models.append(('decission tree',dt))\n",
    "models.append(('rf',rf))\n",
    "models.append(('gboost',gboost))"
   ]
  },
  {
   "cell_type": "code",
   "execution_count": 405,
   "metadata": {},
   "outputs": [
    {
     "name": "stdout",
     "output_type": "stream",
     "text": [
      "logistic_regression:0.712808 (0.000154)\n",
      "Naive Bayes:0.637329 (0.000283)\n",
      "knn:0.666835 (0.000190)\n",
      "decission tree:0.601549 (0.000175)\n",
      "rf:0.723420 (0.000248)\n",
      "gboost:0.773525 (0.000113)\n"
     ]
    },
    {
     "data": {
      "image/png": "[encoded data removed]",
      "text/plain": [
       "<Figure size 432x288 with 1 Axes>"
      ]
     },
     "metadata": {
      "needs_background": "light"
     },
     "output_type": "display_data"
    }
   ],
   "source": [
    "from sklearn.model_selection import KFold\n",
    "from sklearn.model_selection import cross_val_score\n",
    "results=[]\n",
    "names=[]\n",
    "import warnings\n",
    "for name,model in models:\n",
    "    warnings.simplefilter('ignore')\n",
    "    kfold=KFold(shuffle=True,n_splits=10,random_state=1)\n",
    "    cv_results=cross_val_score(model,x_trains,y_trains,cv=kfold,scoring='roc_auc') \n",
    "    results.append(cv_results)\n",
    "    names.append(name)\n",
    "    print(\"%s:%f (%f)\" % (name,np.mean(cv_results),np.var(cv_results,ddof=1)))  ##we have 10 auc scores. we are taking its average.\n",
    "    \n",
    "#boxplot algorithm comparison\n",
    "\n",
    "fig=plt.figure()\n",
    "fig.suptitle('algorithm comparison')\n",
    "ax=fig.add_subplot(111)\n",
    "plt.xlabel(names)\n",
    "plt.boxplot(results)\n",
    "plt.show()"
   ]
  },
  {
   "cell_type": "code",
   "execution_count": 408,
   "metadata": {},
   "outputs": [],
   "source": [
    "gboost=GradientBoostingClassifier(n_estimators=89)\n",
    "gboost.fit(x_trains,y_trains)\n",
    "\n",
    "x_tests=ss.transform(x_test)\n",
    "y_pred=gboost.predict(x_tests)"
   ]
  },
  {
   "cell_type": "code",
   "execution_count": 409,
   "metadata": {},
   "outputs": [
    {
     "data": {
      "text/html": [
       "<div>\n",
       "<style scoped>\n",
       "    .dataframe tbody tr th:only-of-type {\n",
       "        vertical-align: middle;\n",
       "    }\n",
       "\n",
       "    .dataframe tbody tr th {\n",
       "        vertical-align: top;\n",
       "    }\n",
       "\n",
       "    .dataframe thead th {\n",
       "        text-align: right;\n",
       "    }\n",
       "</style>\n",
       "<table border=\"1\" class=\"dataframe\">\n",
       "  <thead>\n",
       "    <tr style=\"text-align: right;\">\n",
       "      <th></th>\n",
       "      <th>ID</th>\n",
       "      <th>default_payment_next_month</th>\n",
       "    </tr>\n",
       "  </thead>\n",
       "  <tbody>\n",
       "    <tr>\n",
       "      <th>0</th>\n",
       "      <td>10178</td>\n",
       "      <td>0.0</td>\n",
       "    </tr>\n",
       "    <tr>\n",
       "      <th>1</th>\n",
       "      <td>5304</td>\n",
       "      <td>0.0</td>\n",
       "    </tr>\n",
       "    <tr>\n",
       "      <th>2</th>\n",
       "      <td>5187</td>\n",
       "      <td>0.0</td>\n",
       "    </tr>\n",
       "    <tr>\n",
       "      <th>3</th>\n",
       "      <td>14495</td>\n",
       "      <td>0.0</td>\n",
       "    </tr>\n",
       "    <tr>\n",
       "      <th>4</th>\n",
       "      <td>20444</td>\n",
       "      <td>0.0</td>\n",
       "    </tr>\n",
       "  </tbody>\n",
       "</table>\n",
       "</div>"
      ],
      "text/plain": [
       "      ID  default_payment_next_month\n",
       "0  10178                         0.0\n",
       "1   5304                         0.0\n",
       "2   5187                         0.0\n",
       "3  14495                         0.0\n",
       "4  20444                         0.0"
      ]
     },
     "execution_count": 409,
     "metadata": {},
     "output_type": "execute_result"
    }
   ],
   "source": [
    "r1=x_test['ID']\n",
    "r2=pd.DataFrame(y_pred,columns=['default_payment_next_month'])\n",
    "result=pd.concat([r1,r2],axis=1)\n",
    "result.head()"
   ]
  },
  {
   "cell_type": "code",
   "execution_count": 410,
   "metadata": {},
   "outputs": [],
   "source": [
    "result.to_csv('C:/Users/SAJAN P MENON/Desktop/week-9-case_study/analytics_vidhya_loan_defaulter/upload_result3.csv')"
   ]
  },
  {
   "cell_type": "code",
   "execution_count": null,
   "metadata": {},
   "outputs": [],
   "source": []
  },
  {
   "cell_type": "code",
   "execution_count": null,
   "metadata": {},
   "outputs": [],
   "source": []
  },
  {
   "cell_type": "markdown",
   "metadata": {},
   "source": [
    "# base model"
   ]
  },
  {
   "cell_type": "code",
   "execution_count": 412,
   "metadata": {},
   "outputs": [],
   "source": [
    "df1=df.copy()\n",
    "df_train=df1[df1['train/test']==1]\n",
    "df_test=df1[df1['train/test']==0]\n",
    "y_train=df_train['default_payment_next_month']\n",
    "x_train=df_train.drop(columns=['default_payment_next_month','train/test'],axis=1)\n",
    "x_test=df_test.drop(columns=['default_payment_next_month','train/test'],axis=1)\n",
    "\n",
    "from sklearn.preprocessing import StandardScaler\n",
    "ss=StandardScaler()\n",
    "x_trains=ss.fit_transform(x_train)\n",
    "y_trains=y_train.copy()\n",
    "x_tests=ss.fit(x_test)"
   ]
  },
  {
   "cell_type": "code",
   "execution_count": 413,
   "metadata": {},
   "outputs": [],
   "source": [
    "from sklearn.ensemble import RandomForestClassifier\n",
    "from sklearn.linear_model import LogisticRegression\n",
    "from sklearn.tree import DecisionTreeClassifier\n",
    "from sklearn.neighbors import KNeighborsClassifier\n",
    "from sklearn.naive_bayes import BernoulliNB\n",
    "from sklearn.ensemble import GradientBoostingClassifier\n",
    "\n",
    "lr=LogisticRegression()\n",
    "dt=DecisionTreeClassifier()\n",
    "rf=RandomForestClassifier()\n",
    "knn=KNeighborsClassifier()\n",
    "nb=BernoulliNB()\n",
    "gboost=GradientBoostingClassifier()\n",
    "#-----------------------------------------#\n",
    "models=[]\n",
    "models.append(('logistic_regression',lr))  \n",
    "models.append(('Naive Bayes',nb))                    # #we need to scale the data before applying \n",
    "    \n",
    "models.append(('knn',knn))                         #we need to scale the data.\n",
    "models.append(('decission tree',dt))\n",
    "models.append(('rf',rf))\n",
    "models.append(('gboost',gboost))"
   ]
  },
  {
   "cell_type": "code",
   "execution_count": 414,
   "metadata": {},
   "outputs": [
    {
     "name": "stdout",
     "output_type": "stream",
     "text": [
      "logistic_regression:0.730345 (0.000153)\n",
      "Naive Bayes:0.698133 (0.000225)\n",
      "knn:0.704515 (0.000399)\n",
      "decission tree:0.612766 (0.000049)\n",
      "rf:0.734546 (0.000274)\n",
      "gboost:0.784631 (0.000160)\n"
     ]
    },
    {
     "data": {
      "image/png": "[encoded data removed]",
      "text/plain": [
       "<Figure size 432x288 with 1 Axes>"
      ]
     },
     "metadata": {
      "needs_background": "light"
     },
     "output_type": "display_data"
    }
   ],
   "source": [
    "from sklearn.model_selection import KFold\n",
    "from sklearn.model_selection import cross_val_score\n",
    "results=[]\n",
    "names=[]\n",
    "import warnings\n",
    "for name,model in models:\n",
    "    warnings.simplefilter('ignore')\n",
    "    kfold=KFold(shuffle=True,n_splits=10,random_state=1)\n",
    "    cv_results=cross_val_score(model,x_trains,y_trains,cv=kfold,scoring='roc_auc') \n",
    "    results.append(cv_results)\n",
    "    names.append(name)\n",
    "    print(\"%s:%f (%f)\" % (name,np.mean(cv_results),np.var(cv_results,ddof=1)))  ##we have 10 auc scores. we are taking its average.\n",
    "    \n",
    "#boxplot algorithm comparison\n",
    "\n",
    "fig=plt.figure()\n",
    "fig.suptitle('algorithm comparison')\n",
    "ax=fig.add_subplot(111)\n",
    "plt.xlabel(names)\n",
    "plt.boxplot(results)\n",
    "plt.show()"
   ]
  },
  {
   "cell_type": "code",
   "execution_count": 416,
   "metadata": {},
   "outputs": [],
   "source": [
    "gboost=GradientBoostingClassifier(n_estimators=89)\n",
    "gboost.fit(x_trains,y_trains)\n",
    "\n",
    "x_tests=ss.transform(x_test)\n",
    "y_pred=gboost.predict(x_tests)"
   ]
  },
  {
   "cell_type": "code",
   "execution_count": 417,
   "metadata": {},
   "outputs": [
    {
     "data": {
      "text/html": [
       "<div>\n",
       "<style scoped>\n",
       "    .dataframe tbody tr th:only-of-type {\n",
       "        vertical-align: middle;\n",
       "    }\n",
       "\n",
       "    .dataframe tbody tr th {\n",
       "        vertical-align: top;\n",
       "    }\n",
       "\n",
       "    .dataframe thead th {\n",
       "        text-align: right;\n",
       "    }\n",
       "</style>\n",
       "<table border=\"1\" class=\"dataframe\">\n",
       "  <thead>\n",
       "    <tr style=\"text-align: right;\">\n",
       "      <th></th>\n",
       "      <th>ID</th>\n",
       "      <th>default_payment_next_month</th>\n",
       "    </tr>\n",
       "  </thead>\n",
       "  <tbody>\n",
       "    <tr>\n",
       "      <th>0</th>\n",
       "      <td>10178</td>\n",
       "      <td>0.0</td>\n",
       "    </tr>\n",
       "    <tr>\n",
       "      <th>1</th>\n",
       "      <td>5304</td>\n",
       "      <td>0.0</td>\n",
       "    </tr>\n",
       "    <tr>\n",
       "      <th>2</th>\n",
       "      <td>5187</td>\n",
       "      <td>0.0</td>\n",
       "    </tr>\n",
       "    <tr>\n",
       "      <th>3</th>\n",
       "      <td>14495</td>\n",
       "      <td>0.0</td>\n",
       "    </tr>\n",
       "    <tr>\n",
       "      <th>4</th>\n",
       "      <td>20444</td>\n",
       "      <td>0.0</td>\n",
       "    </tr>\n",
       "  </tbody>\n",
       "</table>\n",
       "</div>"
      ],
      "text/plain": [
       "      ID  default_payment_next_month\n",
       "0  10178                         0.0\n",
       "1   5304                         0.0\n",
       "2   5187                         0.0\n",
       "3  14495                         0.0\n",
       "4  20444                         0.0"
      ]
     },
     "execution_count": 417,
     "metadata": {},
     "output_type": "execute_result"
    }
   ],
   "source": [
    "r1=x_test['ID']\n",
    "r2=pd.DataFrame(y_pred,columns=['default_payment_next_month'])\n",
    "result=pd.concat([r1,r2],axis=1)\n",
    "result.head()"
   ]
  },
  {
   "cell_type": "code",
   "execution_count": 418,
   "metadata": {},
   "outputs": [],
   "source": [
    "result.to_csv('C:/Users/SAJAN P MENON/Desktop/week-9-case_study/analytics_vidhya_loan_defaulter/upload_result4.csv')"
   ]
  },
  {
   "cell_type": "code",
   "execution_count": null,
   "metadata": {},
   "outputs": [],
   "source": []
  },
  {
   "cell_type": "markdown",
   "metadata": {},
   "source": [
    "# feature engineeirng bill amount avrage"
   ]
  },
  {
   "cell_type": "code",
   "execution_count": 419,
   "metadata": {},
   "outputs": [],
   "source": [
    "df1=df.copy()\n",
    "df1['avg_BillAmnt']=(df1['BILL_AMT1']+df1['BILL_AMT2']+df1['BILL_AMT3']+df1['BILL_AMT4']+df1['BILL_AMT5']+df1['BILL_AMT6'])/6\n",
    "df1=df1.drop(columns=['BILL_AMT1','BILL_AMT2','BILL_AMT3','BILL_AMT4','BILL_AMT5','BILL_AMT6'],axis=1)"
   ]
  },
  {
   "cell_type": "code",
   "execution_count": 420,
   "metadata": {},
   "outputs": [],
   "source": [
    "df_train=df1[df1['train/test']==1]\n",
    "df_test=df1[df1['train/test']==0]\n",
    "y_train=df_train['default_payment_next_month']\n",
    "x_train=df_train.drop(columns=['default_payment_next_month','train/test'],axis=1)\n",
    "x_test=df_test.drop(columns=['default_payment_next_month','train/test'],axis=1)\n",
    "\n",
    "from sklearn.preprocessing import StandardScaler\n",
    "ss=StandardScaler()\n",
    "x_trains=ss.fit_transform(x_train)\n",
    "y_trains=y_train.copy()\n",
    "x_tests=ss.fit(x_test)"
   ]
  },
  {
   "cell_type": "code",
   "execution_count": 421,
   "metadata": {},
   "outputs": [],
   "source": [
    "from sklearn.ensemble import RandomForestClassifier\n",
    "from sklearn.linear_model import LogisticRegression\n",
    "from sklearn.tree import DecisionTreeClassifier\n",
    "from sklearn.neighbors import KNeighborsClassifier\n",
    "from sklearn.naive_bayes import BernoulliNB\n",
    "from sklearn.ensemble import GradientBoostingClassifier\n",
    "\n",
    "lr=LogisticRegression()\n",
    "dt=DecisionTreeClassifier()\n",
    "rf=RandomForestClassifier()\n",
    "knn=KNeighborsClassifier()\n",
    "nb=BernoulliNB()\n",
    "gboost=GradientBoostingClassifier()\n",
    "#-----------------------------------------#\n",
    "models=[]\n",
    "models.append(('logistic_regression',lr))  \n",
    "models.append(('Naive Bayes',nb))                    # #we need to scale the data before applying \n",
    "    \n",
    "models.append(('knn',knn))                         #we need to scale the data.\n",
    "models.append(('decission tree',dt))\n",
    "models.append(('rf',rf))\n",
    "models.append(('gboost',gboost))"
   ]
  },
  {
   "cell_type": "code",
   "execution_count": 422,
   "metadata": {},
   "outputs": [],
   "source": [
    "auc_val=[]\n",
    "for val in range(1,100):\n",
    "    gboost=GradientBoostingClassifier(n_estimators=val)\n",
    "    result=cross_val_score(gboost,x_trains,y_trains,scoring='roc_auc',cv=5)\n",
    "    auc_val.append(np.mean(result))"
   ]
  },
  {
   "cell_type": "code",
   "execution_count": 424,
   "metadata": {},
   "outputs": [
    {
     "name": "stdout",
     "output_type": "stream",
     "text": [
      "83\n"
     ]
    }
   ],
   "source": [
    "print(np.argmax(auc_val))\n",
    "gboost=GradientBoostingClassifier(n_estimators=83)"
   ]
  },
  {
   "cell_type": "code",
   "execution_count": 425,
   "metadata": {},
   "outputs": [],
   "source": [
    "gboost.fit(x_trains,y_trains)\n",
    "x_tests=ss.transform(x_test)\n",
    "y_pred=gboost.predict(x_tests)\n",
    "r1=x_test['ID']\n",
    "r2=pd.DataFrame(y_pred,columns=['default_payment_next_month'])\n",
    "result=pd.concat([r1,r2],axis=1)\n",
    "result.head()\n",
    "result.to_csv('C:/Users/SAJAN P MENON/Desktop/week-9-case_study/analytics_vidhya_loan_defaulter/upload_result5.csv')"
   ]
  },
  {
   "cell_type": "code",
   "execution_count": null,
   "metadata": {},
   "outputs": [],
   "source": []
  },
  {
   "cell_type": "code",
   "execution_count": null,
   "metadata": {},
   "outputs": [],
   "source": []
  },
  {
   "cell_type": "markdown",
   "metadata": {},
   "source": [
    "# trying bagging classifier"
   ]
  },
  {
   "cell_type": "code",
   "execution_count": 426,
   "metadata": {},
   "outputs": [],
   "source": [
    "df1=df.copy()\n",
    "df1['avg_BillAmnt']=(df1['BILL_AMT1']+df1['BILL_AMT2']+df1['BILL_AMT3']+df1['BILL_AMT4']+df1['BILL_AMT5']+df1['BILL_AMT6'])/6\n",
    "df1=df1.drop(columns=['BILL_AMT1','BILL_AMT2','BILL_AMT3','BILL_AMT4','BILL_AMT5','BILL_AMT6'],axis=1)"
   ]
  },
  {
   "cell_type": "code",
   "execution_count": 427,
   "metadata": {},
   "outputs": [],
   "source": [
    "df_train=df1[df1['train/test']==1]\n",
    "df_test=df1[df1['train/test']==0]\n",
    "y_train=df_train['default_payment_next_month']\n",
    "x_train=df_train.drop(columns=['default_payment_next_month','train/test'],axis=1)\n",
    "x_test=df_test.drop(columns=['default_payment_next_month','train/test'],axis=1)\n",
    "\n",
    "from sklearn.preprocessing import StandardScaler\n",
    "ss=StandardScaler()\n",
    "x_trains=ss.fit_transform(x_train)\n",
    "y_trains=y_train.copy()\n",
    "x_tests=ss.fit(x_test)"
   ]
  },
  {
   "cell_type": "code",
   "execution_count": 428,
   "metadata": {},
   "outputs": [],
   "source": [
    "from sklearn.ensemble import RandomForestClassifier\n",
    "from sklearn.linear_model import LogisticRegression\n",
    "from sklearn.tree import DecisionTreeClassifier\n",
    "from sklearn.neighbors import KNeighborsClassifier\n",
    "from sklearn.naive_bayes import BernoulliNB\n",
    "from sklearn.ensemble import GradientBoostingClassifier\n",
    "\n",
    "\n",
    "from sklearn.ensemble import BaggingClassifier\n",
    "\n",
    "\n",
    "lr=LogisticRegression()\n",
    "dt=DecisionTreeClassifier()\n",
    "rf=RandomForestClassifier()\n",
    "knn=KNeighborsClassifier()\n",
    "nb=BernoulliNB()\n",
    "gboost=GradientBoostingClassifier()\n",
    "\n",
    "lr_bag=BaggingClassifier(base_estimator=lr,n_estimators=10)\n",
    "nb_bag=BaggingClassifier(base_estimator=nb,n_estimators=10)\n",
    "knn_bag=BaggingClassifier(base_estimator=knn,n_estimators=10)\n",
    "dt_bag=BaggingClassifier(base_estimator=dt,n_estimators=10)\n",
    "rf_bag=BaggingClassifier(base_estimator=rf,n_estimators=10)\n",
    "#-----------------------------------------#\n",
    "models=[]\n",
    "models.append(('logistic_regression',lr))  \n",
    "models.append(('Naive Bayes',nb))                    # #we need to scale the data before applying \n",
    "    \n",
    "models.append(('knn',knn))                         #we need to scale the data.\n",
    "models.append(('decission tree',dt))\n",
    "models.append(('rf',rf))\n",
    "models.append(('gboost',gboost))\n",
    "\n",
    "models.append(('lr bagged',lr_bag))\n",
    "models.append(('nb bagged',nb_bag))\n",
    "models.append(('knn bagged',knn_bag))\n",
    "models.append(('dt bagged',dt_bag))\n",
    "models.append(('RF bagged',rf_bag))"
   ]
  },
  {
   "cell_type": "code",
   "execution_count": 429,
   "metadata": {},
   "outputs": [
    {
     "name": "stdout",
     "output_type": "stream",
     "text": [
      "logistic_regression:0.729265 (0.000168)\n",
      "Naive Bayes:0.698775 (0.000238)\n",
      "knn:0.702948 (0.000308)\n",
      "decission tree:0.615610 (0.000229)\n",
      "rf:0.735758 (0.000228)\n",
      "gboost:0.784137 (0.000158)\n",
      "lr bagged:0.729325 (0.000163)\n",
      "nb bagged:0.699157 (0.000241)\n",
      "knn bagged:0.712852 (0.000303)\n",
      "dt bagged:0.729045 (0.000181)\n",
      "RF bagged:0.771598 (0.000209)\n"
     ]
    },
    {
     "data": {
      "image/png": "[encoded data removed]",
      "text/plain": [
       "<Figure size 432x288 with 1 Axes>"
      ]
     },
     "metadata": {
      "needs_background": "light"
     },
     "output_type": "display_data"
    }
   ],
   "source": [
    "from sklearn.model_selection import KFold\n",
    "from sklearn.model_selection import cross_val_score\n",
    "results=[]\n",
    "names=[]\n",
    "import warnings\n",
    "for name,model in models:\n",
    "    warnings.simplefilter('ignore')\n",
    "    kfold=KFold(shuffle=True,n_splits=10,random_state=1)\n",
    "    cv_results=cross_val_score(model,x_trains,y_trains,cv=kfold,scoring='roc_auc') \n",
    "    results.append(cv_results)\n",
    "    names.append(name)\n",
    "    print(\"%s:%f (%f)\" % (name,np.mean(cv_results),np.var(cv_results,ddof=1)))  ##we have 10 auc scores. we are taking its average.\n",
    "    \n",
    "#boxplot algorithm comparison\n",
    "\n",
    "fig=plt.figure()\n",
    "fig.suptitle('algorithm comparison')\n",
    "ax=fig.add_subplot(111)\n",
    "plt.xlabel(names)\n",
    "plt.boxplot(results)\n",
    "plt.show()"
   ]
  },
  {
   "cell_type": "code",
   "execution_count": null,
   "metadata": {},
   "outputs": [],
   "source": []
  },
  {
   "cell_type": "code",
   "execution_count": null,
   "metadata": {},
   "outputs": [],
   "source": []
  },
  {
   "cell_type": "code",
   "execution_count": 431,
   "metadata": {},
   "outputs": [
    {
     "data": {
      "text/html": [
       "<div>\n",
       "<style scoped>\n",
       "    .dataframe tbody tr th:only-of-type {\n",
       "        vertical-align: middle;\n",
       "    }\n",
       "\n",
       "    .dataframe tbody tr th {\n",
       "        vertical-align: top;\n",
       "    }\n",
       "\n",
       "    .dataframe thead th {\n",
       "        text-align: right;\n",
       "    }\n",
       "</style>\n",
       "<table border=\"1\" class=\"dataframe\">\n",
       "  <thead>\n",
       "    <tr style=\"text-align: right;\">\n",
       "      <th></th>\n",
       "      <th>AGE</th>\n",
       "      <th>BILL_AMT1</th>\n",
       "      <th>BILL_AMT2</th>\n",
       "      <th>BILL_AMT3</th>\n",
       "      <th>BILL_AMT4</th>\n",
       "      <th>BILL_AMT5</th>\n",
       "      <th>BILL_AMT6</th>\n",
       "      <th>EDUCATION</th>\n",
       "      <th>ID</th>\n",
       "      <th>LIMIT_BAL</th>\n",
       "      <th>...</th>\n",
       "      <th>PAY_6</th>\n",
       "      <th>PAY_AMT1</th>\n",
       "      <th>PAY_AMT2</th>\n",
       "      <th>PAY_AMT3</th>\n",
       "      <th>PAY_AMT4</th>\n",
       "      <th>PAY_AMT5</th>\n",
       "      <th>PAY_AMT6</th>\n",
       "      <th>SEX</th>\n",
       "      <th>default_payment_next_month</th>\n",
       "      <th>train/test</th>\n",
       "    </tr>\n",
       "  </thead>\n",
       "  <tbody>\n",
       "    <tr>\n",
       "      <th>0</th>\n",
       "      <td>25</td>\n",
       "      <td>20952</td>\n",
       "      <td>12590</td>\n",
       "      <td>3479</td>\n",
       "      <td>3435</td>\n",
       "      <td>8870</td>\n",
       "      <td>2020</td>\n",
       "      <td>2</td>\n",
       "      <td>25150</td>\n",
       "      <td>360000</td>\n",
       "      <td>...</td>\n",
       "      <td>-1</td>\n",
       "      <td>12590</td>\n",
       "      <td>3479</td>\n",
       "      <td>3446</td>\n",
       "      <td>8870</td>\n",
       "      <td>2020</td>\n",
       "      <td>27043</td>\n",
       "      <td>2</td>\n",
       "      <td>0.0</td>\n",
       "      <td>1</td>\n",
       "    </tr>\n",
       "    <tr>\n",
       "      <th>1</th>\n",
       "      <td>46</td>\n",
       "      <td>456</td>\n",
       "      <td>0</td>\n",
       "      <td>0</td>\n",
       "      <td>2240</td>\n",
       "      <td>1681</td>\n",
       "      <td>2267</td>\n",
       "      <td>1</td>\n",
       "      <td>13470</td>\n",
       "      <td>240000</td>\n",
       "      <td>...</td>\n",
       "      <td>-1</td>\n",
       "      <td>0</td>\n",
       "      <td>0</td>\n",
       "      <td>2240</td>\n",
       "      <td>0</td>\n",
       "      <td>2267</td>\n",
       "      <td>3074</td>\n",
       "      <td>2</td>\n",
       "      <td>0.0</td>\n",
       "      <td>1</td>\n",
       "    </tr>\n",
       "    <tr>\n",
       "      <th>2</th>\n",
       "      <td>41</td>\n",
       "      <td>49846</td>\n",
       "      <td>53811</td>\n",
       "      <td>38717</td>\n",
       "      <td>35409</td>\n",
       "      <td>35036</td>\n",
       "      <td>35939</td>\n",
       "      <td>2</td>\n",
       "      <td>3092</td>\n",
       "      <td>320000</td>\n",
       "      <td>...</td>\n",
       "      <td>0</td>\n",
       "      <td>5000</td>\n",
       "      <td>2000</td>\n",
       "      <td>2000</td>\n",
       "      <td>3000</td>\n",
       "      <td>3000</td>\n",
       "      <td>1500</td>\n",
       "      <td>2</td>\n",
       "      <td>0.0</td>\n",
       "      <td>1</td>\n",
       "    </tr>\n",
       "    <tr>\n",
       "      <th>3</th>\n",
       "      <td>24</td>\n",
       "      <td>2675</td>\n",
       "      <td>0</td>\n",
       "      <td>0</td>\n",
       "      <td>0</td>\n",
       "      <td>0</td>\n",
       "      <td>0</td>\n",
       "      <td>2</td>\n",
       "      <td>13973</td>\n",
       "      <td>50000</td>\n",
       "      <td>...</td>\n",
       "      <td>-1</td>\n",
       "      <td>0</td>\n",
       "      <td>0</td>\n",
       "      <td>0</td>\n",
       "      <td>0</td>\n",
       "      <td>0</td>\n",
       "      <td>0</td>\n",
       "      <td>2</td>\n",
       "      <td>1.0</td>\n",
       "      <td>1</td>\n",
       "    </tr>\n",
       "    <tr>\n",
       "      <th>4</th>\n",
       "      <td>52</td>\n",
       "      <td>35861</td>\n",
       "      <td>18521</td>\n",
       "      <td>19385</td>\n",
       "      <td>20561</td>\n",
       "      <td>21261</td>\n",
       "      <td>21457</td>\n",
       "      <td>3</td>\n",
       "      <td>10567</td>\n",
       "      <td>80000</td>\n",
       "      <td>...</td>\n",
       "      <td>0</td>\n",
       "      <td>1500</td>\n",
       "      <td>1500</td>\n",
       "      <td>1500</td>\n",
       "      <td>1028</td>\n",
       "      <td>876</td>\n",
       "      <td>1449</td>\n",
       "      <td>1</td>\n",
       "      <td>0.0</td>\n",
       "      <td>1</td>\n",
       "    </tr>\n",
       "  </tbody>\n",
       "</table>\n",
       "<p>5 rows × 26 columns</p>\n",
       "</div>"
      ],
      "text/plain": [
       "   AGE  BILL_AMT1  BILL_AMT2  BILL_AMT3  BILL_AMT4  BILL_AMT5  BILL_AMT6  \\\n",
       "0   25      20952      12590       3479       3435       8870       2020   \n",
       "1   46        456          0          0       2240       1681       2267   \n",
       "2   41      49846      53811      38717      35409      35036      35939   \n",
       "3   24       2675          0          0          0          0          0   \n",
       "4   52      35861      18521      19385      20561      21261      21457   \n",
       "\n",
       "  EDUCATION     ID  LIMIT_BAL  ... PAY_6  PAY_AMT1  PAY_AMT2  PAY_AMT3  \\\n",
       "0         2  25150     360000  ...    -1     12590      3479      3446   \n",
       "1         1  13470     240000  ...    -1         0         0      2240   \n",
       "2         2   3092     320000  ...     0      5000      2000      2000   \n",
       "3         2  13973      50000  ...    -1         0         0         0   \n",
       "4         3  10567      80000  ...     0      1500      1500      1500   \n",
       "\n",
       "   PAY_AMT4  PAY_AMT5  PAY_AMT6  SEX  default_payment_next_month  train/test  \n",
       "0      8870      2020     27043    2                         0.0           1  \n",
       "1         0      2267      3074    2                         0.0           1  \n",
       "2      3000      3000      1500    2                         0.0           1  \n",
       "3         0         0         0    2                         1.0           1  \n",
       "4      1028       876      1449    1                         0.0           1  \n",
       "\n",
       "[5 rows x 26 columns]"
      ]
     },
     "execution_count": 431,
     "metadata": {},
     "output_type": "execute_result"
    }
   ],
   "source": [
    "df.head()"
   ]
  },
  {
   "cell_type": "code",
   "execution_count": null,
   "metadata": {},
   "outputs": [],
   "source": []
  },
  {
   "cell_type": "code",
   "execution_count": null,
   "metadata": {},
   "outputs": [],
   "source": []
  }
 ],
 "metadata": {
  "kernelspec": {
   "display_name": "Python 3",
   "language": "python",
   "name": "python3"
  },
  "language_info": {
   "codemirror_mode": {
    "name": "ipython",
    "version": 3
   },
   "file_extension": ".py",
   "mimetype": "text/x-python",
   "name": "python",
   "nbconvert_exporter": "python",
   "pygments_lexer": "ipython3",
   "version": "3.7.3"
  }
 },
 "nbformat": 4,
 "nbformat_minor": 2
}
